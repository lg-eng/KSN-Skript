{
 "cells": [
  {
   "cell_type": "code",
   "execution_count": null,
   "id": "c72c20bd",
   "metadata": {
    "tags": [
     "hide-input"
    ]
   },
   "outputs": [],
   "source": [
    "import numpy as np\n",
    "import matplotlib.pyplot as plt\n",
    "plt.rcParams['figure.figsize'] = [10, 5] #Plotgröße anpassen\n",
    "import matplotlib\n",
    "matplotlib.rcParams['text.usetex'] = True\n",
    "font = {'family' : 'normal',\n",
    "        'weight' : 'bold',\n",
    "        'size'   : 18}\n",
    "matplotlib.rc('font', **font)\n",
    "from sympy import *\n",
    "init_printing(use_latex='mathjax')\n",
    "#from scipy import signal\n",
    "from IPython.display import display, Markdown\n",
    "\n",
    "R,L,C,w=symbols('R,L,C,\\omega',real=true)\n",
    "Ic,U=symbols('Ic,U')\n",
    "A,phi=symbols(\"A,varphi\",real=true)"
   ]
  },
  {
   "cell_type": "markdown",
   "id": "5eeed093-98bf-4444-8135-607d6cf4602d",
   "metadata": {},
   "source": [
    "# Darstellung von Signalen"
   ]
  },
  {
   "cell_type": "markdown",
   "id": "7c5744b5",
   "metadata": {},
   "source": [
    "## Sinussignale"
   ]
  },
  {
   "cell_type": "markdown",
   "id": "947c20e7",
   "metadata": {},
   "source": [
    "Mittels Python wird ein Sinussignal erstellt. Die Anzahl der Perioden, die Amplitude und die Frequenz können dabei frei gewählt werden."
   ]
  },
  {
   "cell_type": "code",
   "execution_count": null,
   "id": "16efcc14",
   "metadata": {},
   "outputs": [],
   "source": [
    "fN = 100 #Frequenz in Hz\n",
    "nN = 2 #Anzahl der Perioden\n",
    "AN = 1 #Amplitude\n",
    "phiN = np.pi/4#Phasenverschiebung in radiant"
   ]
  },
  {
   "cell_type": "markdown",
   "id": "e66ad46c",
   "metadata": {},
   "source": [
    "### Darstellung im Zeitbereich"
   ]
  },
  {
   "cell_type": "markdown",
   "id": "22c84bb6",
   "metadata": {},
   "source": [
    "Bei der Darstellung im Zeitbereich ist auf der horizontalen Achse die Zeit aufgetragen."
   ]
  },
  {
   "cell_type": "code",
   "execution_count": null,
   "id": "3369936e",
   "metadata": {
    "tags": [
     "hide-input"
    ]
   },
   "outputs": [],
   "source": [
    "TN = 1/fN #Periodendauer\n",
    "omega = 2*np.pi*fN #Kreisfrequenz\n",
    "\n",
    "#Zeit array\n",
    "tN = np.arange(0,nN*TN,TN/1000)\n",
    "\n",
    "yN = np.sin(omega*tN+phiN)\n",
    "\n",
    "plt.plot(tN,yN)\n",
    "plt.grid()\n",
    "plt.xlabel(r'time in s')\n",
    "plt.ylabel(r'Amplitude')\n",
    "plt.show()"
   ]
  },
  {
   "cell_type": "markdown",
   "id": "74102a89",
   "metadata": {},
   "source": [
    "### Darstellung auf der komplexen Zahlenebene"
   ]
  },
  {
   "cell_type": "markdown",
   "id": "16c84947",
   "metadata": {},
   "source": [
    "Unter der Voraussetzung einer reinen Sinusschwingung und einer konstanten Frequenz kann ein Signal auch auf der komplexen Zahlenebene dargestellt werden."
   ]
  },
  {
   "cell_type": "markdown",
   "id": "a8b4a2cd",
   "metadata": {},
   "source": [
    "#### Komponentendarstellung"
   ]
  },
  {
   "cell_type": "code",
   "execution_count": null,
   "id": "1aac0772",
   "metadata": {
    "tags": [
     "hide-input"
    ]
   },
   "outputs": [],
   "source": [
    "U=A*cos(phi)+A*I*sin(phi)\n",
    "eq1 = Eq(S('U'),U) # Symbolischer Ausdruck\n",
    "display(eq1)"
   ]
  },
  {
   "cell_type": "code",
   "execution_count": null,
   "id": "746d7df8",
   "metadata": {
    "tags": [
     "hide-input"
    ]
   },
   "outputs": [],
   "source": [
    "display(Eq(S('U'),U.subs({A:AN,phi:phiN}))) # Mit Zahlenwerten Ausdruck"
   ]
  },
  {
   "cell_type": "markdown",
   "id": "92b971c1",
   "metadata": {},
   "source": [
    "#### Exponentialform"
   ]
  },
  {
   "cell_type": "code",
   "execution_count": null,
   "id": "a4542548",
   "metadata": {
    "tags": [
     "hide-input"
    ]
   },
   "outputs": [],
   "source": [
    "U = A*exp(I*phi)\n",
    "display(Eq(S('U'),U)) # Symbolischer Ausdruck"
   ]
  },
  {
   "cell_type": "code",
   "execution_count": null,
   "id": "14ed3bff",
   "metadata": {
    "tags": [
     "hide-input"
    ]
   },
   "outputs": [],
   "source": [
    "eq1 = Eq(S('U'),U.subs({A:AN,phi:phiN}))\n",
    "display(eq1) # Mit Zahlenwerten Ausdruck"
   ]
  },
  {
   "cell_type": "markdown",
   "id": "592a7d43",
   "metadata": {},
   "source": [
    "#### Grafische Darstellung"
   ]
  },
  {
   "cell_type": "code",
   "execution_count": null,
   "id": "c95d6ebb",
   "metadata": {
    "tags": [
     "hide-input"
    ]
   },
   "outputs": [],
   "source": [
    "fig, ax = plt.subplots(subplot_kw={'projection': 'polar'})\n",
    "ax.plot([0,phiN],[0,AN],marker='^')\n",
    "#ax.set_rticks([0.5, 1, 1.5, 2])  # Less radial ticks\n",
    "ax.set_rlabel_position(-20)  # Move radial labels away from plotted line\n",
    "ax.set_xlim([0,2*np.pi])\n",
    "ax.set_xticks([0,np.pi/2,6/4*np.pi])\n",
    "ax.set_xlabel('reale Achse')\n",
    "ax.set_ylabel('imaginäre Achse')\n",
    "ax.grid(True)\n",
    "\n",
    "ax.set_title(\"Darstellung auf der komplexen Zahlenebene\", va='bottom')\n",
    "plt.show()\n"
   ]
  },
  {
   "cell_type": "markdown",
   "id": "f1f7f142",
   "metadata": {},
   "source": [
    "## Darstellung im Frequenzbereich"
   ]
  },
  {
   "cell_type": "markdown",
   "id": "ca57f566",
   "metadata": {},
   "source": [
    "Ändert sich ein Signal nicht mit der Zeit sondern mit der Frequenz so ist eine Darstellung von Vorteil bei der die Frequenz auf der horizontalen Achse aufgetragen wird."
   ]
  },
  {
   "cell_type": "markdown",
   "id": "8f5a53a1",
   "metadata": {},
   "source": [
    "Am Beispiel eines Serienschwingkreises soll dieser Zusammenhang verdeutlicht werden."
   ]
  },
  {
   "cell_type": "markdown",
   "id": "015f11c2-cbc4-40cc-a2a2-e2933e0145de",
   "metadata": {},
   "source": [
    "```{figure} ./images/RCL.jpg\n",
    ":name: RCL\n",
    ":height: 100px\n",
    "\n",
    "RCL Schwingkreis\n",
    "```"
   ]
  },
  {
   "cell_type": "markdown",
   "id": "527509a6",
   "metadata": {},
   "source": [
    "### Mathematische Schaltungsbeschreibung"
   ]
  },
  {
   "cell_type": "code",
   "execution_count": null,
   "id": "a40e7e9c",
   "metadata": {
    "tags": []
   },
   "outputs": [],
   "source": [
    "LN=0.1 #H\n",
    "RN=1000 #Ohm\n",
    "CN=10**-6 #F"
   ]
  },
  {
   "cell_type": "markdown",
   "id": "79afb52b",
   "metadata": {},
   "source": [
    "#### Impedanz"
   ]
  },
  {
   "cell_type": "code",
   "execution_count": null,
   "id": "2dd9eaf0",
   "metadata": {
    "tags": [
     "hide-input"
    ]
   },
   "outputs": [],
   "source": [
    "Z=R+I*w*L+1/(I*w*C)\n",
    "eq1 = Eq(S('Z'),Z)\n",
    "display(eq1)"
   ]
  },
  {
   "cell_type": "markdown",
   "id": "4414a492",
   "metadata": {},
   "source": [
    "Betrag der Impedanz"
   ]
  },
  {
   "cell_type": "code",
   "execution_count": null,
   "id": "47b3913e",
   "metadata": {
    "tags": [
     "hide-input"
    ]
   },
   "outputs": [],
   "source": [
    "Zb = sqrt(re(Z)**2+im(Z)**2)\n",
    "eq1 = Eq(S('Z_b'),Zb)\n",
    "display(eq1)"
   ]
  },
  {
   "cell_type": "markdown",
   "id": "3f74cf8f",
   "metadata": {},
   "source": [
    "Phase der Impedanz"
   ]
  },
  {
   "cell_type": "code",
   "execution_count": null,
   "id": "83dfb660",
   "metadata": {
    "tags": [
     "hide-input"
    ]
   },
   "outputs": [],
   "source": [
    "phiZ = arg(Z)\n",
    "eq1 = Eq(S('varphi'),phiZ)\n",
    "display(eq1)"
   ]
  },
  {
   "cell_type": "markdown",
   "id": "b4844f8c",
   "metadata": {},
   "source": [
    "##### Strom"
   ]
  },
  {
   "cell_type": "code",
   "execution_count": null,
   "id": "90aa1bf2",
   "metadata": {
    "tags": [
     "hide-input"
    ]
   },
   "outputs": [],
   "source": [
    "Ic = U/Z\n",
    "eq1 = Eq(symbols('I_c'),Ic)\n",
    "display(eq1)"
   ]
  },
  {
   "cell_type": "markdown",
   "id": "01934254",
   "metadata": {},
   "source": [
    "#### Berechnung des Frequenzverlaufes"
   ]
  },
  {
   "cell_type": "code",
   "execution_count": null,
   "id": "486f98f1",
   "metadata": {
    "tags": []
   },
   "outputs": [],
   "source": [
    "omega_start_exponent = 0 #Exponent zur Basis 10 --> omega_start = 10^omega_start_exponent\n",
    "omega_end_exponent = 7 #Exponent zur Basis 10 --> --> omega_end = 10^omega_end_exponent"
   ]
  },
  {
   "cell_type": "markdown",
   "id": "778a203d",
   "metadata": {},
   "source": [
    "Berechnung des Betrags und  Phase"
   ]
  },
  {
   "cell_type": "code",
   "execution_count": null,
   "id": "182ad194",
   "metadata": {
    "tags": [
     "hide-input"
    ]
   },
   "outputs": [],
   "source": [
    "ZbN=Zb.subs({A:AN,R:RN,C:CN,L:LN})\n",
    "phiZN=phiZ.subs({A:AN,R:RN,C:CN,L:LN})\n",
    "#p1 = plot(180*phiZN/np.pi,(w, omega_start,omega_end),axis_center = [omega_start,0],xscale='log',xlabel = '$\\omega$',ylim=[-90,90],ylabel='Phase in °',show=false)\n",
    "#p2 = plot(ZbN,(w, omega_start,omega_end),xscale='log',yscale='log',ylabel='Betrag',xlabel = '$\\omega$',show=false)\n",
    "#p1.show()\n",
    "#p2.show()\n",
    "\n",
    "w_array = np.logspace(omega_start_exponent,omega_end_exponent,50) #generate omega array\n",
    "\n",
    "fZbN=lambdify(w, ZbN,\"numpy\") #convert sympy to numpy\n",
    "\n",
    "fphiZN=lambdify(w, 180*phiZN/np.pi,\"numpy\") #convert sympy to numpy\n",
    "\n",
    "fig, (ax1, ax2) = plt.subplots(2, 1)\n",
    "fig.set_size_inches(10, 10)\n",
    "fig.suptitle('Darstellung über die Frequenz')\n",
    "\n",
    "ax1.plot(w_array,fZbN(w_array))\n",
    "ax1.set_ylabel('Betrag')\n",
    "ax1.set(xlabel='$\\omega$',xscale='log',yscale='log')\n",
    "ax1.grid()\n",
    "\n",
    "ax2.plot(w_array,fphiZN(w_array))\n",
    "ax2.set(xlabel='$\\omega$',xscale='log',ylabel = 'Phase in °',yticks=[-90,-45,0,45,90])\n",
    "ax2.grid()\n",
    "\n"
   ]
  },
  {
   "cell_type": "markdown",
   "id": "c9fa2b5a",
   "metadata": {},
   "source": [
    "## Nyquist Plot"
   ]
  },
  {
   "cell_type": "markdown",
   "id": "485f12b1",
   "metadata": {},
   "source": [
    "Ist eine Darstellung des Realteiles und des Imaginärteiles auf der komplexen Zahlenebene in Abhängigkeit der Frequenz."
   ]
  },
  {
   "cell_type": "code",
   "execution_count": null,
   "id": "476eed71-8478-4bbc-a261-d7064963eeae",
   "metadata": {
    "tags": [
     "hide-input"
    ]
   },
   "outputs": [],
   "source": [
    "ReZ = re(Z) # Realteil von Z\n",
    "eq1 = Eq(S('Re(Z)'),ReZ)\n",
    "display(eq1)\n",
    "ImZ = im(Z) # Imaginärteil von Z\n",
    "eq1 = Eq(S('Im(Z)'),ImZ)\n",
    "display(eq1)"
   ]
  },
  {
   "cell_type": "code",
   "execution_count": null,
   "id": "1e372ec9-ee9c-4c00-8253-90ee2c74eeeb",
   "metadata": {
    "tags": [
     "hide-input"
    ]
   },
   "outputs": [],
   "source": [
    "\n",
    "\n",
    "ReZ_N=ReZ.subs({A:AN,R:RN,C:CN,L:LN}) #Einsetzen der Zahlenwerte\n",
    "ImZ_N=ImZ.subs({A:AN,R:RN,C:CN,L:LN}) #Einsetzen der Zahlenwerte\n",
    "\n",
    "f_ReZ_N=lambdify(w, ReZ_N,\"numpy\") #Zahlenreihe aus Gleichung erstellen sympy to numpy\n",
    "\n",
    "f_ImZ_N=lambdify(w, ImZ_N,\"numpy\") #Zahlenreihe aus Gleichung erstellen sympy to numpy\n",
    "\n",
    "fig, ax = plt.subplots()\n",
    "fig.set_size_inches(8, 8)\n",
    "fig.suptitle('Nyquist Darstellung')\n",
    "ax.plot(np.ones(len(w_array))*f_ReZ_N(w_array),f_ImZ_N(w_array))\n",
    "ax.set_xlabel('reale Achse')\n",
    "ax.set_ylabel('imaginäre Achse')\n",
    "ax.grid()\n",
    "\n",
    "\n"
   ]
  }
 ],
 "metadata": {
  "kernelspec": {
   "display_name": "Python 3 (ipykernel)",
   "language": "python",
   "name": "python3"
  },
  "language_info": {
   "codemirror_mode": {
    "name": "ipython",
    "version": 3
   },
   "file_extension": ".py",
   "mimetype": "text/x-python",
   "name": "python",
   "nbconvert_exporter": "python",
   "pygments_lexer": "ipython3",
   "version": "3.9.7"
  }
 },
 "nbformat": 4,
 "nbformat_minor": 5
}
