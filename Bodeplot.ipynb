{
 "cells": [
  {
   "cell_type": "code",
   "execution_count": 94,
   "id": "521de983-b30e-416a-8fa7-ed66980ae6f9",
   "metadata": {
    "tags": [
     "hide-cell"
    ]
   },
   "outputs": [],
   "source": [
    "import numpy as np\n",
    "import matplotlib.pyplot as plt\n",
    "plt.rcParams['figure.figsize'] = [10, 5] #Plotgröße anpassen\n",
    "import matplotlib\n",
    "matplotlib.rcParams['text.usetex'] = True\n",
    "font = {'family' : 'normal',\n",
    "        'weight' : 'bold',\n",
    "        'size'   : 18}\n",
    "matplotlib.rc('font', **font)\n",
    "from sympy import *\n",
    "from sympy.physics.units import ohm, ampere, henry, farad,second, convert_to\n",
    "init_printing(use_latex='mathjax')\n",
    "#from scipy import signal\n",
    "from IPython.display import display, Markdown, Latex, Math\n",
    "j = I\n",
    "R,L,C,w=symbols('R,L,C,\\omega',real=true)\n",
    "Ic,U,U_1,U_2,I_1,I_2,Z_L=symbols('Ic,U,U_1,U_2,I_1,I_2,Z_L')\n",
    "phi=symbols(\"\\phi\",real=true)"
   ]
  },
  {
   "cell_type": "markdown",
   "id": "33a073b8-ddb6-4497-89d1-2c647f9162b1",
   "metadata": {
    "tags": []
   },
   "source": [
    "# Bodediagramme von Filter"
   ]
  },
  {
   "cell_type": "markdown",
   "id": "3a804812-3f1f-4776-b049-094360b370d5",
   "metadata": {
    "tags": []
   },
   "source": [
    "##  Tiefpasses erster Ordnung"
   ]
  },
  {
   "cell_type": "markdown",
   "id": "15358bdd-416f-4f04-8c62-b8b15a3e4c45",
   "metadata": {},
   "source": [
    "```{figure} ./images/TP_1ord.jpg\n",
    ":name: tp_1ord\n",
    ":width: 300px\n",
    "\n",
    "Tiefpass erster Ordnung\n",
    "```"
   ]
  },
  {
   "cell_type": "markdown",
   "id": "ae577572-cd0c-43e1-838e-0871da88a1a3",
   "metadata": {},
   "source": [
    "Die Vierpoltheorie erlaubt es den Tiefpass mittels Matrizenschreibweise zu beschreiben."
   ]
  },
  {
   "cell_type": "code",
   "execution_count": 95,
   "id": "2bbc3e26-aa1d-4b87-9db6-1ee9e1b02e9d",
   "metadata": {
    "tags": [
     "hide-input"
    ]
   },
   "outputs": [
    {
     "data": {
      "text/latex": [
       "$\\displaystyle A = \\left[\\begin{matrix}i C R \\omega + 1 & R\\\\i C \\omega & 1\\end{matrix}\\right]$"
      ],
      "text/plain": [
       "<IPython.core.display.Math object>"
      ]
     },
     "metadata": {},
     "output_type": "display_data"
    }
   ],
   "source": [
    "A = Matrix([[I*w*C*R+1,R],[I*w*C,1]])\n",
    "display(Math('$A = ' + latex(A) + '$'))"
   ]
  },
  {
   "cell_type": "code",
   "execution_count": 96,
   "id": "1332ddfb-047b-47ca-a0d5-c35b8d1bbbd4",
   "metadata": {
    "tags": [
     "hide-input"
    ]
   },
   "outputs": [
    {
     "data": {
      "text/latex": [
       "$\\displaystyle  \\left[\\begin{matrix}U_{1}\\\\I_{1}\\end{matrix}\\right] = \\left[\\begin{matrix}i C R \\omega + 1 & R\\\\i C \\omega & 1\\end{matrix}\\right]\\cdot\\left[\\begin{matrix}U_{2}\\\\I_{2}\\end{matrix}\\right] $"
      ],
      "text/plain": [
       "<IPython.core.display.Math object>"
      ]
     },
     "metadata": {},
     "output_type": "display_data"
    }
   ],
   "source": [
    "X=Matrix([[S('U_2')],[S('I_2')]])\n",
    "Y=Matrix([[S('U_1')],[S('I_1')]])\n",
    "display(Math('$ ' + latex(Y) + ' = ' + latex(A) + '\\cdot' + latex(X) +  ' $'))"
   ]
  },
  {
   "cell_type": "markdown",
   "id": "deac339e-4210-47d5-b409-3f8fb8cfa8b6",
   "metadata": {},
   "source": [
    "Die Übetragungsfunktion der Spannung ergibt sich mit folgender Beziehung.\n",
    "$ U_1 = U_2 \\cdot (a_11 + a_12/Z_L)\\cdot  $"
   ]
  },
  {
   "cell_type": "code",
   "execution_count": 97,
   "id": "704e6c0a-25c6-490c-b6dc-f2867f436ee7",
   "metadata": {
    "tags": [
     "hide-input"
    ]
   },
   "outputs": [
    {
     "data": {
      "text/latex": [
       "$\\displaystyle \\frac{U_{2}}{U_{1}} = \\frac{Z_{L}}{R + Z_{L} \\left(i C R \\omega + 1\\right)}$"
      ],
      "text/plain": [
       "U₂              Z_L            \n",
       "── = ──────────────────────────\n",
       "U₁   R + Z_L⋅(ⅈ⋅C⋅R⋅\\omega + 1)"
      ]
     },
     "execution_count": 97,
     "metadata": {},
     "output_type": "execute_result"
    }
   ],
   "source": [
    "eq1=Eq(U_2/U_1,simplify(1/(A[0,0]+A[0,1]/Z_L)))\n",
    "eq1"
   ]
  },
  {
   "cell_type": "markdown",
   "id": "47718b3a-5c41-43f6-8e37-490bc3cac765",
   "metadata": {},
   "source": [
    "Wird der Tiefpass im Leerlauf betrachtet so kann von einem unendlich großen $Z_L$ ausgegangen werden. damit vereinfacht sich die Übertragungsfunktion. "
   ]
  },
  {
   "cell_type": "code",
   "execution_count": 98,
   "id": "dd36dd4c-5bd8-4c2d-8406-7a12c0d88c60",
   "metadata": {
    "tags": [
     "hide-input"
    ]
   },
   "outputs": [
    {
     "data": {
      "text/latex": [
       "$\\displaystyle \\frac{U_{2}}{U_{1}} = \\frac{1}{i C R \\omega + 1}$"
      ],
      "text/plain": [
       "U₂          1        \n",
       "── = ────────────────\n",
       "U₁   ⅈ⋅C⋅R⋅\\omega + 1"
      ]
     },
     "execution_count": 98,
     "metadata": {},
     "output_type": "execute_result"
    }
   ],
   "source": [
    "eq1=Eq(U_2/U_1,simplify(1/(A[0,0])))\n",
    "eq1"
   ]
  },
  {
   "cell_type": "markdown",
   "id": "d1b849ed-04bf-4f21-a1dd-c931aff690a3",
   "metadata": {},
   "source": [
    "Alternativ kann die Übertragungsgleichung auch mittels Spannungsteiler hergeleitet werden."
   ]
  },
  {
   "cell_type": "code",
   "execution_count": 99,
   "id": "730aba78-0185-4f8e-844a-c520fbab7c45",
   "metadata": {
    "tags": [
     "hide-input"
    ]
   },
   "outputs": [
    {
     "data": {
      "text/latex": [
       "$\\displaystyle \\frac{U_{2}}{U_{1}} = - \\frac{i}{C R \\omega - i}$"
      ],
      "text/plain": [
       "U₂        -ⅈ       \n",
       "── = ──────────────\n",
       "U₁   C⋅R⋅\\omega - ⅈ"
      ]
     },
     "execution_count": 99,
     "metadata": {},
     "output_type": "execute_result"
    }
   ],
   "source": [
    "Z_p = (1/(I*w*C))\n",
    "Z = Z_p + R\n",
    "#display(Z_p)\n",
    "#display(Z)\n",
    "eq2=Eq(U_2/U_1,simplify(Z_p/Z))\n",
    "eq2"
   ]
  },
  {
   "cell_type": "markdown",
   "id": "a388850e-255d-4ef6-8f0e-7fd106e8680b",
   "metadata": {
    "tags": []
   },
   "source": [
    "### Frequenzverlauf - Bodediagramm"
   ]
  },
  {
   "cell_type": "markdown",
   "id": "99b9341b-dd4b-476b-b97e-ce3de0f04ec0",
   "metadata": {},
   "source": [
    "Betrag der Übertragungsfunktion"
   ]
  },
  {
   "cell_type": "code",
   "execution_count": 100,
   "id": "c3d1c5d4-cc3f-4d51-9bde-e1f9d1c6c4aa",
   "metadata": {
    "tags": [
     "hide-input"
    ]
   },
   "outputs": [
    {
     "data": {
      "text/latex": [
       "$\\displaystyle Gb = \\frac{1}{\\sqrt{C^{2} R^{2} \\omega^{2} + 1}}$"
      ],
      "text/plain": [
       "               1           \n",
       "Gb = ──────────────────────\n",
       "        ___________________\n",
       "       ╱  2  2       2     \n",
       "     ╲╱  C ⋅R ⋅\\omega  + 1 "
      ]
     },
     "execution_count": 100,
     "metadata": {},
     "output_type": "execute_result"
    }
   ],
   "source": [
    "eq3=Eq(S('Gb'),abs(eq2.rhs))\n",
    "eq3"
   ]
  },
  {
   "cell_type": "markdown",
   "id": "32f59057-4de9-4b97-9fbc-65b0f019afbd",
   "metadata": {},
   "source": [
    "Phase der Übertragungsfunktion"
   ]
  },
  {
   "cell_type": "code",
   "execution_count": 101,
   "id": "0968b022-86bf-4f36-99b3-714e8212df37",
   "metadata": {
    "tags": [
     "hide-input"
    ]
   },
   "outputs": [
    {
     "data": {
      "text/latex": [
       "$\\displaystyle Gp = \\arg{\\left(- \\frac{i}{C R \\omega - i} \\right)}$"
      ],
      "text/plain": [
       "        ⎛     -ⅈ       ⎞\n",
       "Gp = arg⎜──────────────⎟\n",
       "        ⎝C⋅R⋅\\omega - ⅈ⎠"
      ]
     },
     "execution_count": 101,
     "metadata": {},
     "output_type": "execute_result"
    }
   ],
   "source": [
    "eq4=Eq(S('Gp'),arg(eq2.rhs))\n",
    "eq4"
   ]
  },
  {
   "cell_type": "code",
   "execution_count": 102,
   "id": "ca145349-16c2-4a86-812b-caf3b4abc40a",
   "metadata": {
    "tags": [
     "hide-input"
    ]
   },
   "outputs": [
    {
     "data": {
      "text/markdown": [
       "Die Grezfrequenz ergibt sich aus folgender Formel."
      ],
      "text/plain": [
       "<IPython.core.display.Markdown object>"
      ]
     },
     "metadata": {},
     "output_type": "display_data"
    },
    {
     "data": {
      "text/latex": [
       "$\\displaystyle \\omega_{g} = \\frac{1}{C R}$"
      ],
      "text/plain": [
       "       1 \n",
       "ω_g = ───\n",
       "      C⋅R"
      ]
     },
     "execution_count": 102,
     "metadata": {},
     "output_type": "execute_result"
    }
   ],
   "source": [
    "display(Markdown('Die Grezfrequenz ergibt sich aus folgender Formel.'))\n",
    "eq1 = (Eq(S('omega_g'),1/(R*C)))\n",
    "eq1"
   ]
  },
  {
   "cell_type": "code",
   "execution_count": 103,
   "id": "ccc0d9fa-3f73-40b7-9d24-9c595882c434",
   "metadata": {
    "tags": []
   },
   "outputs": [],
   "source": [
    "LN=0.1 #H\n",
    "RN=1000#Ohm\n",
    "CN=10**-6 #C\n",
    "ZLN=1000 #Ohm\n",
    "\n",
    "omega_start_exponent = 0 #Exponent zur Basis 10 --> omega_start = 10^omega_start_exponent\n",
    "omega_end_exponent = 7 #Exponent zur Basis 10 --> --> omega_end = 10^omega_end_exponent"
   ]
  },
  {
   "cell_type": "code",
   "execution_count": 104,
   "id": "f15d86bb-77ea-4bc2-aafa-cb44dd57df9b",
   "metadata": {
    "tags": [
     "hide-input"
    ]
   },
   "outputs": [
    {
     "data": {
      "text/latex": [
       "$ \\omega_{g} = 1000.0 \\ \\frac{1}{\\text{s}} $"
      ],
      "text/plain": [
       "<IPython.core.display.Latex object>"
      ]
     },
     "metadata": {},
     "output_type": "display_data"
    }
   ],
   "source": [
    "eq2 = Eq(eq1.lhs,convert_to(eq1.subs({C:CN,R:RN}).rhs,second))\n",
    "eq2\n",
    "display(Latex('$ ' + latex(eq2) + ' \\ \\\\frac{1}{\\\\text{s}} $'))"
   ]
  },
  {
   "cell_type": "code",
   "execution_count": 105,
   "id": "183065b3-c081-476c-bc7c-4cf3db835105",
   "metadata": {
    "tags": [
     "hide-input"
    ]
   },
   "outputs": [
    {
     "data": {
      "image/png": "[encoded data removed]",
      "text/plain": [
       "<Figure size 720x720 with 2 Axes>"
      ]
     },
     "metadata": {
      "needs_background": "light"
     },
     "output_type": "display_data"
    }
   ],
   "source": [
    "magnitude=eq3.rhs.subs({Z_L:ZLN,R:RN,C:CN,L:LN})\n",
    "phase=eq4.rhs.subs({Z_L:ZLN,R:RN,C:CN,L:LN})\n",
    "\n",
    "w_array = np.logspace(omega_start_exponent,omega_end_exponent,50) #generate omega array\n",
    "\n",
    "magnitudeN=lambdify(w,magnitude ,\"numpy\") #convert sympy to numpy\n",
    "\n",
    "phaseN=lambdify(w, 180*phase/np.pi,\"numpy\") #convert sympy to numpy\n",
    "\n",
    "fig, (ax1, ax2) = plt.subplots(2, 1)\n",
    "fig.set_size_inches(10, 10)\n",
    "fig.suptitle('Darstellung über die Frequenz')\n",
    "\n",
    "ax1.plot(w_array,20*np.log10(magnitudeN(w_array)))\n",
    "ax1.set_ylabel('Betrag in dB')\n",
    "ax1.set(xlabel='$\\omega$',xscale='log',yscale='linear')\n",
    "ax1.grid()\n",
    "\n",
    "ax2.plot(w_array,phaseN(w_array))\n",
    "ax2.set(xlabel='$\\omega$',xscale='log',ylabel = 'Phase in °',yticks=[-90,-45,0])\n",
    "ax2.grid()\n"
   ]
  },
  {
   "cell_type": "markdown",
   "id": "27356c6a-af00-41f3-a60d-9d34e2043705",
   "metadata": {},
   "source": [
    "Es ist zu erkennen, dass bei einem Tiefpass erster Ordnung der Betrag der Übertragungsfunktion mit $-20 \\ \\text{dB}$ pro Dekade abfällt. Weiter dreht die Phase von $0 \\ °$ auf $-90 \\ °$. Bei der Grenzfrequenz $\\omega_g$ ist der Betrag der Übertragungsfunktion um $-3 \\ dB$ abgedfallen. Gleichzeitig ist die Phase um $-45 \\ °$ gedreht."
   ]
  },
  {
   "cell_type": "markdown",
   "id": "acba1762-efe8-4bba-85b4-30f0487959c8",
   "metadata": {
    "jp-MarkdownHeadingCollapsed": true,
    "tags": []
   },
   "source": [
    "## Tiefpasses zweiter Ordnung"
   ]
  },
  {
   "cell_type": "markdown",
   "id": "9a452877-2192-4366-8849-8ca18f3ccb0c",
   "metadata": {},
   "source": [
    "```{figure} ./images/TP_2ord.jpg\n",
    ":name: tp_2ord\n",
    ":width: 300px\n",
    "\n",
    "Tiefpass zweiter Ordnung\n",
    "```"
   ]
  },
  {
   "cell_type": "code",
   "execution_count": 106,
   "id": "022ed476-62b2-4043-a03d-9b4297785415",
   "metadata": {
    "tags": [
     "hide-input"
    ]
   },
   "outputs": [
    {
     "data": {
      "text/markdown": [
       "Die Übertragungsfunktion"
      ],
      "text/plain": [
       "<IPython.core.display.Markdown object>"
      ]
     },
     "metadata": {},
     "output_type": "display_data"
    },
    {
     "data": {
      "text/latex": [
       "$\\displaystyle \\frac{U_{2}}{U_{1}} = - \\frac{i}{C \\omega \\left(i L \\omega + R\\right) - i}$"
      ],
      "text/plain": [
       "U₂                -ⅈ              \n",
       "── = ─────────────────────────────\n",
       "U₁   C⋅\\omega⋅(ⅈ⋅L⋅\\omega + R) - ⅈ"
      ]
     },
     "metadata": {},
     "output_type": "display_data"
    },
    {
     "data": {
      "text/markdown": [
       "Der Betrag"
      ],
      "text/plain": [
       "<IPython.core.display.Markdown object>"
      ]
     },
     "metadata": {},
     "output_type": "display_data"
    },
    {
     "data": {
      "text/latex": [
       "$\\displaystyle Gb = \\frac{1}{\\sqrt{C^{2} L^{2} \\omega^{4} + C^{2} R^{2} \\omega^{2} - 2 C L \\omega^{2} + 1}}$"
      ],
      "text/plain": [
       "                               1                           \n",
       "Gb = ──────────────────────────────────────────────────────\n",
       "        ___________________________________________________\n",
       "       ╱  2  2       4    2  2       2               2     \n",
       "     ╲╱  C ⋅L ⋅\\omega  + C ⋅R ⋅\\omega  - 2⋅C⋅L⋅\\omega  + 1 "
      ]
     },
     "metadata": {},
     "output_type": "display_data"
    },
    {
     "data": {
      "text/markdown": [
       "Die Phase"
      ],
      "text/plain": [
       "<IPython.core.display.Markdown object>"
      ]
     },
     "metadata": {},
     "output_type": "display_data"
    },
    {
     "data": {
      "text/latex": [
       "$\\displaystyle Gp = \\arg{\\left(- \\frac{i}{C \\omega \\left(i L \\omega + R\\right) - i} \\right)}$"
      ],
      "text/plain": [
       "        ⎛             -ⅈ              ⎞\n",
       "Gp = arg⎜─────────────────────────────⎟\n",
       "        ⎝C⋅\\omega⋅(ⅈ⋅L⋅\\omega + R) - ⅈ⎠"
      ]
     },
     "metadata": {},
     "output_type": "display_data"
    }
   ],
   "source": [
    "Z_p = 1/(I*w*C)\n",
    "Z = Z_p + R + I*w*L\n",
    "#display(Z_p)\n",
    "#display(Z)\n",
    "eq2=Eq(U_2/U_1,simplify(Z_p/Z))\n",
    "display(Markdown('Die Übertragungsfunktion'))\n",
    "display(eq2)\n",
    "eq3=Eq(S('Gb'),abs(eq2.rhs))\n",
    "display(Markdown('Der Betrag'))\n",
    "display((eq3))\n",
    "eq4=Eq(S('Gp'),arg(eq2.rhs))\n",
    "display(Markdown('Die Phase'))\n",
    "display(eq4)"
   ]
  },
  {
   "cell_type": "code",
   "execution_count": 107,
   "id": "eb721262-0d1d-447c-afd9-1796c27d9a08",
   "metadata": {},
   "outputs": [],
   "source": [
    "LN=0.1 #H\n",
    "RN=100#Ohm\n",
    "CN=10**-6 #C\n",
    "ZLN=1000 #Ohm\n",
    "\n",
    "omega_start_exponent = 0 #Exponent zur Basis 10 --> omega_start = 10^omega_start_exponent\n",
    "omega_end_exponent = 7 #Exponent zur Basis 10 --> --> omega_end = 10^omega_end_exponent"
   ]
  },
  {
   "cell_type": "code",
   "execution_count": 108,
   "id": "1117e50e-ca9f-455c-991b-382fa27ee89b",
   "metadata": {
    "tags": [
     "hide-input"
    ]
   },
   "outputs": [
    {
     "data": {
      "text/markdown": [
       "Die Resonanzfrequenz ergibt sich aus folgender Formel."
      ],
      "text/plain": [
       "<IPython.core.display.Markdown object>"
      ]
     },
     "metadata": {},
     "output_type": "display_data"
    },
    {
     "data": {
      "text/latex": [
       "$\\displaystyle \\omega_{r} = \\frac{1}{\\sqrt{C L}}$"
      ],
      "text/plain": [
       "        1   \n",
       "ωᵣ = ───────\n",
       "       _____\n",
       "     ╲╱ C⋅L "
      ]
     },
     "metadata": {},
     "output_type": "display_data"
    },
    {
     "data": {
      "text/latex": [
       "$ \\omega_{r} = 3162.27766016838 \\ \\frac{1}{\\text{s}} $"
      ],
      "text/plain": [
       "<IPython.core.display.Latex object>"
      ]
     },
     "metadata": {},
     "output_type": "display_data"
    },
    {
     "data": {
      "image/png": "[encoded data removed]",
      "text/plain": [
       "<Figure size 720x720 with 2 Axes>"
      ]
     },
     "metadata": {
      "needs_background": "light"
     },
     "output_type": "display_data"
    }
   ],
   "source": [
    "eq1 = (Eq(S('omega_r'),1/sqrt(C*L)))\n",
    "display(Markdown('Die Resonanzfrequenz ergibt sich aus folgender Formel.'))\n",
    "display(eq1)\n",
    "eq2 = Eq(eq1.lhs,convert_to(eq1.subs({C:CN,L:LN}).rhs,second))\n",
    "display(Latex('$ ' + latex(eq2) + ' \\ \\\\frac{1}{\\\\text{s}} $'))\n",
    "\n",
    "magnitude=eq3.rhs.subs({Z_L:ZLN,R:RN,C:CN,L:LN})\n",
    "phase=eq4.rhs.subs({Z_L:ZLN,R:RN,C:CN,L:LN})\n",
    "\n",
    "w_array = np.logspace(omega_start_exponent,omega_end_exponent,10**3) #generate omega array\n",
    "\n",
    "magnitudeN=lambdify(w,magnitude ,\"numpy\") #convert sympy to numpy\n",
    "\n",
    "phaseN=lambdify(w, 180*phase/np.pi,\"numpy\") #convert sympy to numpy\n",
    "\n",
    "fig, (ax1, ax2) = plt.subplots(2, 1)\n",
    "fig.set_size_inches(10, 10)\n",
    "fig.suptitle('Darstellung über die Frequenz')\n",
    "\n",
    "ax1.plot(w_array,20*np.log10(magnitudeN(w_array)))\n",
    "ax1.set_ylabel('Betrag in dB')\n",
    "ax1.set(xlabel='$\\omega$',xscale='log',yscale='linear',yticks=np.arange(20*np.log10(magnitudeN(w_array))[0],min(20*np.log10(magnitudeN(w_array))),-40))\n",
    "ax1.grid()\n",
    "\n",
    "ax2.plot(w_array,phaseN(w_array))\n",
    "ax2.set(xlabel='$\\omega$',xscale='log',ylabel = 'Phase in °',yticks=[-180,-130,-90,-45,0])\n",
    "ax2.grid()"
   ]
  },
  {
   "cell_type": "markdown",
   "id": "db8d02ca-1bdd-4006-9b60-2d3386d7fc0a",
   "metadata": {},
   "source": [
    "Es ist zu erkennen, dass bei einem Tiefpass zweiter Ordnung der Betrag der Übertragungsfunktion mit $-40 \\ \\text{dB}$ pro Dekade abfällt. Weiter dreht die Phase von $0 \\ °$ auf $-180 \\ °$. Durch diese Drehung um $180 °$ ist das System potentiell schwingfähig. Bei der Resonanzfrequenz ist die Phase um $-90 \\ °$  gedreht."
   ]
  },
  {
   "cell_type": "markdown",
   "id": "fddb96c9-93ac-449f-97cf-b13808a96a35",
   "metadata": {},
   "source": [
    "##  Hochpass erster Ordnung"
   ]
  },
  {
   "cell_type": "markdown",
   "id": "f0339488-1ad0-49e7-89fb-378968c9be96",
   "metadata": {},
   "source": [
    "```{figure} ./images/HP_1ord.jpg\n",
    ":name: hp_1ord\n",
    ":width: 300px\n",
    "\n",
    "Hochpass erster Ordnung\n",
    "```"
   ]
  },
  {
   "cell_type": "markdown",
   "id": "dd3801bb-1706-4d6a-9bc3-d42bb47615aa",
   "metadata": {},
   "source": [
    "Die Übertragungsgleichung sich aus dem Spannungsteiler Ansatz."
   ]
  },
  {
   "cell_type": "code",
   "execution_count": 109,
   "id": "7289c1ea-84fc-4930-8ad8-b7b8282798e8",
   "metadata": {
    "tags": [
     "hide-input"
    ]
   },
   "outputs": [
    {
     "data": {
      "text/latex": [
       "$\\displaystyle \\frac{U_{2}}{U_{1}} = \\frac{C R \\omega}{C R \\omega - i}$"
      ],
      "text/plain": [
       "U₂     C⋅R⋅\\omega  \n",
       "── = ──────────────\n",
       "U₁   C⋅R⋅\\omega - ⅈ"
      ]
     },
     "execution_count": 109,
     "metadata": {},
     "output_type": "execute_result"
    }
   ],
   "source": [
    "X_C = 1/(j*w*C)\n",
    "Z = X_C + R\n",
    "eq2=Eq(U_2/U_1,simplify(R/Z))\n",
    "eq2"
   ]
  },
  {
   "cell_type": "markdown",
   "id": "1a5186ac-4a71-494c-81b3-88a10feb5cde",
   "metadata": {},
   "source": [
    "### Frequenzverlauf - Bodediagramm"
   ]
  },
  {
   "cell_type": "markdown",
   "id": "056c92e1-6e67-483e-a041-95263c60a7af",
   "metadata": {},
   "source": [
    "Betrag der Übertragungsfunktion"
   ]
  },
  {
   "cell_type": "code",
   "execution_count": 110,
   "id": "5a394683-68cf-4619-b94b-6487aae9dafd",
   "metadata": {
    "tags": [
     "hide-input"
    ]
   },
   "outputs": [
    {
     "data": {
      "text/latex": [
       "$\\displaystyle Gb = \\frac{\\left|{C R \\omega}\\right|}{\\sqrt{C^{2} R^{2} \\omega^{2} + 1}}$"
      ],
      "text/plain": [
       "          │C⋅R⋅\\omega│     \n",
       "Gb = ──────────────────────\n",
       "        ___________________\n",
       "       ╱  2  2       2     \n",
       "     ╲╱  C ⋅R ⋅\\omega  + 1 "
      ]
     },
     "execution_count": 110,
     "metadata": {},
     "output_type": "execute_result"
    }
   ],
   "source": [
    "eq3=Eq(S('Gb'),abs(eq2.rhs))\n",
    "eq3"
   ]
  },
  {
   "cell_type": "markdown",
   "id": "d5857752-fb0e-4a1c-9185-e9275e5b4b1a",
   "metadata": {},
   "source": [
    "Phase der Übertragungsfunktion"
   ]
  },
  {
   "cell_type": "code",
   "execution_count": 111,
   "id": "c337919c-177a-4755-818e-c9fc663a001c",
   "metadata": {
    "tags": [
     "hide-input"
    ]
   },
   "outputs": [
    {
     "data": {
      "text/latex": [
       "$\\displaystyle Gp = \\arg{\\left(\\frac{C R \\omega}{C R \\omega - i} \\right)}$"
      ],
      "text/plain": [
       "        ⎛  C⋅R⋅\\omega  ⎞\n",
       "Gp = arg⎜──────────────⎟\n",
       "        ⎝C⋅R⋅\\omega - ⅈ⎠"
      ]
     },
     "execution_count": 111,
     "metadata": {},
     "output_type": "execute_result"
    }
   ],
   "source": [
    "eq4=Eq(S('Gp'),arg(eq2.rhs))\n",
    "eq4"
   ]
  },
  {
   "cell_type": "code",
   "execution_count": 112,
   "id": "7d785886-05cb-4fb9-9229-406b5ed6f993",
   "metadata": {
    "tags": [
     "hide-input"
    ]
   },
   "outputs": [
    {
     "data": {
      "text/markdown": [
       "Die Grezfrequenz ergibt sich aus folgender Formel."
      ],
      "text/plain": [
       "<IPython.core.display.Markdown object>"
      ]
     },
     "metadata": {},
     "output_type": "display_data"
    },
    {
     "data": {
      "text/latex": [
       "$\\displaystyle \\omega_{g} = \\frac{1}{C R}$"
      ],
      "text/plain": [
       "       1 \n",
       "ω_g = ───\n",
       "      C⋅R"
      ]
     },
     "execution_count": 112,
     "metadata": {},
     "output_type": "execute_result"
    }
   ],
   "source": [
    "display(Markdown('Die Grezfrequenz ergibt sich aus folgender Formel.'))\n",
    "eq1 = (Eq(S('omega_g'),1/(R*C)))\n",
    "eq1"
   ]
  },
  {
   "cell_type": "code",
   "execution_count": 113,
   "id": "b399ac0b-f90e-4959-a1a1-8d5ff3c666de",
   "metadata": {
    "tags": []
   },
   "outputs": [],
   "source": [
    "LN=0.1 #H\n",
    "RN=1000#Ohm\n",
    "CN=10**-6 #C\n",
    "ZLN=1000 #Ohm\n",
    "\n",
    "omega_start_exponent = 0 #Exponent zur Basis 10 --> omega_start = 10^omega_start_exponent\n",
    "omega_end_exponent = 7 #Exponent zur Basis 10 --> --> omega_end = 10^omega_end_exponent"
   ]
  },
  {
   "cell_type": "code",
   "execution_count": 114,
   "id": "e7150194-8ab7-475e-9874-000da48e259d",
   "metadata": {
    "tags": [
     "hide-input"
    ]
   },
   "outputs": [
    {
     "data": {
      "text/latex": [
       "$ \\omega_{g} = 1000.0 \\ \\frac{1}{\\text{s}} $"
      ],
      "text/plain": [
       "<IPython.core.display.Latex object>"
      ]
     },
     "metadata": {},
     "output_type": "display_data"
    }
   ],
   "source": [
    "eq2 = Eq(eq1.lhs,convert_to(eq1.subs({C:CN,R:RN}).rhs,second))\n",
    "eq2\n",
    "display(Latex('$ ' + latex(eq2) + ' \\ \\\\frac{1}{\\\\text{s}} $'))"
   ]
  },
  {
   "cell_type": "code",
   "execution_count": 115,
   "id": "00f32d69-1b5c-4353-8eee-9d24df60bb8a",
   "metadata": {
    "tags": [
     "hide-input"
    ]
   },
   "outputs": [
    {
     "data": {
      "image/png": "[encoded data removed]",
      "text/plain": [
       "<Figure size 720x720 with 2 Axes>"
      ]
     },
     "metadata": {
      "needs_background": "light"
     },
     "output_type": "display_data"
    }
   ],
   "source": [
    "magnitude=eq3.rhs.subs({Z_L:ZLN,R:RN,C:CN,L:LN})\n",
    "phase=eq4.rhs.subs({Z_L:ZLN,R:RN,C:CN,L:LN})\n",
    "\n",
    "w_array = np.logspace(omega_start_exponent,omega_end_exponent,50) #generate omega array\n",
    "\n",
    "magnitudeN=lambdify(w,magnitude ,\"numpy\") #convert sympy to numpy\n",
    "\n",
    "phaseN=lambdify(w, 180*phase/np.pi,\"numpy\") #convert sympy to numpy\n",
    "\n",
    "fig, (ax1, ax2) = plt.subplots(2, 1)\n",
    "fig.set_size_inches(10, 10)\n",
    "fig.suptitle('Darstellung über die Frequenz')\n",
    "\n",
    "ax1.plot(w_array,20*np.log10(magnitudeN(w_array)))\n",
    "ax1.set_ylabel('Betrag in dB')\n",
    "ax1.set(xlabel='$\\omega$',xscale='log',yscale='linear')\n",
    "ax1.grid()\n",
    "\n",
    "ax2.plot(w_array,phaseN(w_array))\n",
    "ax2.set(xlabel='$\\omega$',xscale='log',ylabel = 'Phase in °',yticks=[90,45,0])\n",
    "ax2.grid()\n"
   ]
  },
  {
   "cell_type": "markdown",
   "id": "bf1995d1-753d-424b-b129-04bde679facd",
   "metadata": {},
   "source": [
    "Es ist zu erkennen, dass bei einem Hochpass erster Ordnung der Betrag der Übertragungsfunktion mit $20 \\ \\text{dB}$ pro Dekade ansteigt. Weiter dreht die Phase von $90 \\ °$ auf $0 \\ °$. Bei der Grenzfrequenz $\\omega_g$ ist der Betrag der Übertragungsfunktion um $-3 \\ dB$ abgedfallen. Gleichzeitig ist die Phase um $45 \\ °$ gedreht."
   ]
  },
  {
   "cell_type": "markdown",
   "id": "00bc17fa-2d64-4ea2-b9a1-724b6c8ff704",
   "metadata": {
    "tags": []
   },
   "source": [
    "## Hochpass zweiter Ordnung"
   ]
  },
  {
   "cell_type": "markdown",
   "id": "a2be6186-4243-4ce5-b3ba-006ae57ceada",
   "metadata": {},
   "source": [
    "```{figure} ./images/HP_2ord.jpg\n",
    ":name: hp_2ord\n",
    ":width: 300px\n",
    "\n",
    "Hochpass zweiter Ordnung\n",
    "```"
   ]
  },
  {
   "cell_type": "code",
   "execution_count": 116,
   "id": "2d820158-3295-4314-a6bc-424ecd5d9791",
   "metadata": {
    "tags": [
     "hide-input"
    ]
   },
   "outputs": [
    {
     "data": {
      "text/markdown": [
       "Die Übertragungsfunktion"
      ],
      "text/plain": [
       "<IPython.core.display.Markdown object>"
      ]
     },
     "metadata": {},
     "output_type": "display_data"
    },
    {
     "data": {
      "text/latex": [
       "$\\displaystyle \\frac{U_{2}}{U_{1}} = \\frac{i C L \\omega^{2}}{C \\omega \\left(i L \\omega + R\\right) - i}$"
      ],
      "text/plain": [
       "                         2        \n",
       "U₂           ⅈ⋅C⋅L⋅\\omega         \n",
       "── = ─────────────────────────────\n",
       "U₁   C⋅\\omega⋅(ⅈ⋅L⋅\\omega + R) - ⅈ"
      ]
     },
     "metadata": {},
     "output_type": "display_data"
    },
    {
     "data": {
      "text/markdown": [
       "Der Betrag"
      ],
      "text/plain": [
       "<IPython.core.display.Markdown object>"
      ]
     },
     "metadata": {},
     "output_type": "display_data"
    },
    {
     "data": {
      "text/latex": [
       "$\\displaystyle Gb = \\frac{\\omega^{2} \\left|{C L}\\right|}{\\sqrt{C^{2} L^{2} \\omega^{4} + C^{2} R^{2} \\omega^{2} - 2 C L \\omega^{2} + 1}}$"
      ],
      "text/plain": [
       "                               2                           \n",
       "                         \\omega ⋅│C⋅L│                     \n",
       "Gb = ──────────────────────────────────────────────────────\n",
       "        ___________________________________________________\n",
       "       ╱  2  2       4    2  2       2               2     \n",
       "     ╲╱  C ⋅L ⋅\\omega  + C ⋅R ⋅\\omega  - 2⋅C⋅L⋅\\omega  + 1 "
      ]
     },
     "metadata": {},
     "output_type": "display_data"
    },
    {
     "data": {
      "text/markdown": [
       "Die Phase"
      ],
      "text/plain": [
       "<IPython.core.display.Markdown object>"
      ]
     },
     "metadata": {},
     "output_type": "display_data"
    },
    {
     "data": {
      "text/latex": [
       "$\\displaystyle Gp = \\arg{\\left(\\frac{i C L \\omega^{2}}{C \\omega \\left(i L \\omega + R\\right) - i} \\right)}$"
      ],
      "text/plain": [
       "        ⎛                    2        ⎞\n",
       "        ⎜        ⅈ⋅C⋅L⋅\\omega         ⎟\n",
       "Gp = arg⎜─────────────────────────────⎟\n",
       "        ⎝C⋅\\omega⋅(ⅈ⋅L⋅\\omega + R) - ⅈ⎠"
      ]
     },
     "metadata": {},
     "output_type": "display_data"
    }
   ],
   "source": [
    "X_C = 1/(I*w*C)\n",
    "X_L = I*w*L\n",
    "Z = R + X_C + X_L\n",
    "#display(Z_p)\n",
    "#display(Z)\n",
    "eq2=Eq(U_2/U_1,simplify(X_L/Z))\n",
    "display(Markdown('Die Übertragungsfunktion'))\n",
    "display(eq2)\n",
    "eq3=Eq(S('Gb'),abs(eq2.rhs))\n",
    "display(Markdown('Der Betrag'))\n",
    "display((eq3))\n",
    "eq4=Eq(S('Gp'),arg(eq2.rhs))\n",
    "display(Markdown('Die Phase'))\n",
    "display(eq4)"
   ]
  },
  {
   "cell_type": "code",
   "execution_count": 117,
   "id": "713251e9-3e80-410e-9cc7-19f43b97914f",
   "metadata": {},
   "outputs": [],
   "source": [
    "LN=0.1 #H\n",
    "RN=100#Ohm\n",
    "CN=10**-6 #C\n",
    "ZLN=1000 #Ohm\n",
    "\n",
    "omega_start_exponent = 0 #Exponent zur Basis 10 --> omega_start = 10^omega_start_exponent\n",
    "omega_end_exponent = 7 #Exponent zur Basis 10 --> --> omega_end = 10^omega_end_exponent"
   ]
  },
  {
   "cell_type": "code",
   "execution_count": 118,
   "id": "d97e641c-dbdb-4ee0-892a-6fdf6c084108",
   "metadata": {
    "tags": [
     "hide-input"
    ]
   },
   "outputs": [
    {
     "data": {
      "text/markdown": [
       "Die Resonanzfrequenz ergibt sich aus folgender Formel."
      ],
      "text/plain": [
       "<IPython.core.display.Markdown object>"
      ]
     },
     "metadata": {},
     "output_type": "display_data"
    },
    {
     "data": {
      "text/latex": [
       "$\\displaystyle \\omega_{r} = \\frac{1}{\\sqrt{C L}}$"
      ],
      "text/plain": [
       "        1   \n",
       "ωᵣ = ───────\n",
       "       _____\n",
       "     ╲╱ C⋅L "
      ]
     },
     "metadata": {},
     "output_type": "display_data"
    },
    {
     "data": {
      "text/latex": [
       "$ \\omega_{r} = 3162.27766016838 \\ \\frac{1}{\\text{s}} $"
      ],
      "text/plain": [
       "<IPython.core.display.Latex object>"
      ]
     },
     "metadata": {},
     "output_type": "display_data"
    },
    {
     "data": {
      "image/png": "[encoded data removed]",
      "text/plain": [
       "<Figure size 720x720 with 2 Axes>"
      ]
     },
     "metadata": {
      "needs_background": "light"
     },
     "output_type": "display_data"
    }
   ],
   "source": [
    "eq1 = (Eq(S('omega_r'),1/sqrt(C*L)))\n",
    "display(Markdown('Die Resonanzfrequenz ergibt sich aus folgender Formel.'))\n",
    "display(eq1)\n",
    "eq2 = Eq(eq1.lhs,convert_to(eq1.subs({C:CN,L:LN}).rhs,second))\n",
    "display(Latex('$ ' + latex(eq2) + ' \\ \\\\frac{1}{\\\\text{s}} $'))\n",
    "\n",
    "magnitude=eq3.rhs.subs({Z_L:ZLN,R:RN,C:CN,L:LN})\n",
    "phase=eq4.rhs.subs({Z_L:ZLN,R:RN,C:CN,L:LN})\n",
    "\n",
    "w_array = np.logspace(omega_start_exponent,omega_end_exponent,10**3) #generate omega array\n",
    "\n",
    "magnitudeN=lambdify(w,magnitude ,\"numpy\") #convert sympy to numpy\n",
    "\n",
    "phaseN=lambdify(w, 180*phase/np.pi,\"numpy\") #convert sympy to numpy\n",
    "\n",
    "fig, (ax1, ax2) = plt.subplots(2, 1)\n",
    "fig.set_size_inches(10, 10)\n",
    "fig.suptitle('Darstellung über die Frequenz')\n",
    "\n",
    "ax1.plot(w_array,20*np.log10(magnitudeN(w_array)))\n",
    "ax1.set_ylabel('Betrag in dB')\n",
    "ax1.set(xlabel='$\\omega$',xscale='log',yscale='linear',yticks=np.arange(0,min(20*np.log10(magnitudeN(w_array))),-40))\n",
    "ax1.grid()\n",
    "\n",
    "ax2.plot(w_array,phaseN(w_array))\n",
    "ax2.set(xlabel='$\\omega$',xscale='log',ylabel = 'Phase in °',yticks=[180,130,90,45,0])\n",
    "ax2.grid()"
   ]
  },
  {
   "cell_type": "markdown",
   "id": "17a1ffa6-fc5a-4936-a6d9-d341d108056f",
   "metadata": {},
   "source": [
    "Es ist zu erkennen, dass bei einem Hochpass zweiter Ordnung der Betrag der Übertragungsfunktion mit $40 \\ \\text{dB}$ pro Dekade ansteigt. Weiter dreht die Phase von $180 \\ °$ auf $0 \\ °$. Durch diese Drehung um $180 °$ ist das System potentiell schwingfähig. Bei der Resonanzfrequenz ist die Phase um $90 \\ °$  gedreht."
   ]
  },
  {
   "cell_type": "markdown",
   "id": "8d7f442d-c19f-4d6b-a16f-669a538d3aad",
   "metadata": {
    "tags": []
   },
   "source": [
    "## Bandpass\n",
    "Ein Bandpass benötigt mindestens zwei energiespeichernde Bauteile. Daher ist er immer mindestens zweiter Ordnung."
   ]
  },
  {
   "cell_type": "markdown",
   "id": "4a3c8096-c070-4960-a519-8e19db167a16",
   "metadata": {},
   "source": [
    "```{figure} ./images/Bandpass.jpg\n",
    ":name: bandpass\n",
    ":width: 300px\n",
    "\n",
    "Bandpass\n",
    "```"
   ]
  },
  {
   "cell_type": "code",
   "execution_count": 119,
   "id": "431239e1-43f6-4a7f-a094-7d86441a72e9",
   "metadata": {
    "tags": [
     "hide-input"
    ]
   },
   "outputs": [
    {
     "data": {
      "text/markdown": [
       "Die Übertragungsfunktion"
      ],
      "text/plain": [
       "<IPython.core.display.Markdown object>"
      ]
     },
     "metadata": {},
     "output_type": "display_data"
    },
    {
     "data": {
      "text/latex": [
       "$\\displaystyle \\frac{U_{2}}{U_{1}} = \\frac{C R \\omega}{C \\omega \\left(i L \\omega + R\\right) - i}$"
      ],
      "text/plain": [
       "U₂             C⋅R⋅\\omega         \n",
       "── = ─────────────────────────────\n",
       "U₁   C⋅\\omega⋅(ⅈ⋅L⋅\\omega + R) - ⅈ"
      ]
     },
     "metadata": {},
     "output_type": "display_data"
    },
    {
     "data": {
      "text/markdown": [
       "Der Betrag"
      ],
      "text/plain": [
       "<IPython.core.display.Markdown object>"
      ]
     },
     "metadata": {},
     "output_type": "display_data"
    },
    {
     "data": {
      "text/latex": [
       "$\\displaystyle Gb = \\frac{\\left|{C R \\omega}\\right|}{\\sqrt{C^{2} L^{2} \\omega^{4} + C^{2} R^{2} \\omega^{2} - 2 C L \\omega^{2} + 1}}$"
      ],
      "text/plain": [
       "                          │C⋅R⋅\\omega│                     \n",
       "Gb = ──────────────────────────────────────────────────────\n",
       "        ___________________________________________________\n",
       "       ╱  2  2       4    2  2       2               2     \n",
       "     ╲╱  C ⋅L ⋅\\omega  + C ⋅R ⋅\\omega  - 2⋅C⋅L⋅\\omega  + 1 "
      ]
     },
     "metadata": {},
     "output_type": "display_data"
    },
    {
     "data": {
      "text/markdown": [
       "Die Phase"
      ],
      "text/plain": [
       "<IPython.core.display.Markdown object>"
      ]
     },
     "metadata": {},
     "output_type": "display_data"
    },
    {
     "data": {
      "text/latex": [
       "$\\displaystyle Gp = \\arg{\\left(\\frac{C R \\omega}{C \\omega \\left(i L \\omega + R\\right) - i} \\right)}$"
      ],
      "text/plain": [
       "        ⎛          C⋅R⋅\\omega         ⎞\n",
       "Gp = arg⎜─────────────────────────────⎟\n",
       "        ⎝C⋅\\omega⋅(ⅈ⋅L⋅\\omega + R) - ⅈ⎠"
      ]
     },
     "metadata": {},
     "output_type": "display_data"
    }
   ],
   "source": [
    "X_C = 1/(I*w*C)\n",
    "X_L = I*w*L\n",
    "Z = R + X_C + X_L\n",
    "#display(Z_p)\n",
    "#display(Z)\n",
    "eq2=Eq(U_2/U_1,simplify(R/Z))\n",
    "display(Markdown('Die Übertragungsfunktion'))\n",
    "display(eq2)\n",
    "eq3=Eq(S('Gb'),abs(eq2.rhs))\n",
    "display(Markdown('Der Betrag'))\n",
    "display((eq3))\n",
    "eq4=Eq(S('Gp'),arg(eq2.rhs))\n",
    "display(Markdown('Die Phase'))\n",
    "display(eq4)"
   ]
  },
  {
   "cell_type": "code",
   "execution_count": 120,
   "id": "6a08f0cc-e280-4290-90e3-39455035f6d1",
   "metadata": {},
   "outputs": [],
   "source": [
    "LN=0.1 #H\n",
    "RN=1000#Ohm\n",
    "CN=10**-6 #C\n",
    "ZLN=1000 #Ohm\n",
    "\n",
    "omega_start_exponent = 0 #Exponent zur Basis 10 --> omega_start = 10^omega_start_exponent\n",
    "omega_end_exponent = 7 #Exponent zur Basis 10 --> --> omega_end = 10^omega_end_exponent"
   ]
  },
  {
   "cell_type": "code",
   "execution_count": 121,
   "id": "f434a39c-0f0a-48c2-ae11-460bd4985163",
   "metadata": {
    "tags": [
     "hide-input"
    ]
   },
   "outputs": [
    {
     "data": {
      "text/markdown": [
       "Die Resonanzfrequenz ergibt sich aus folgender Formel."
      ],
      "text/plain": [
       "<IPython.core.display.Markdown object>"
      ]
     },
     "metadata": {},
     "output_type": "display_data"
    },
    {
     "data": {
      "text/latex": [
       "$\\displaystyle \\omega_{r} = \\frac{1}{\\sqrt{C L}}$"
      ],
      "text/plain": [
       "        1   \n",
       "ωᵣ = ───────\n",
       "       _____\n",
       "     ╲╱ C⋅L "
      ]
     },
     "metadata": {},
     "output_type": "display_data"
    },
    {
     "data": {
      "text/latex": [
       "$ \\omega_{r} = 3162.27766016838 \\ \\frac{1}{\\text{s}} $"
      ],
      "text/plain": [
       "<IPython.core.display.Latex object>"
      ]
     },
     "metadata": {},
     "output_type": "display_data"
    },
    {
     "data": {
      "image/png": "[encoded data removed]",
      "text/plain": [
       "<Figure size 720x720 with 2 Axes>"
      ]
     },
     "metadata": {
      "needs_background": "light"
     },
     "output_type": "display_data"
    }
   ],
   "source": [
    "eq1 = (Eq(S('omega_r'),1/sqrt(C*L)))\n",
    "display(Markdown('Die Resonanzfrequenz ergibt sich aus folgender Formel.'))\n",
    "display(eq1)\n",
    "eq2 = Eq(eq1.lhs,convert_to(eq1.subs({C:CN,L:LN}).rhs,second))\n",
    "display(Latex('$ ' + latex(eq2) + ' \\ \\\\frac{1}{\\\\text{s}} $'))\n",
    "\n",
    "magnitude=eq3.rhs.subs({Z_L:ZLN,R:RN,C:CN,L:LN})\n",
    "phase=eq4.rhs.subs({Z_L:ZLN,R:RN,C:CN,L:LN})\n",
    "\n",
    "w_array = np.logspace(omega_start_exponent,omega_end_exponent,10**3) #generate omega array\n",
    "\n",
    "magnitudeN=lambdify(w,magnitude ,\"numpy\") #convert sympy to numpy\n",
    "\n",
    "phaseN=lambdify(w, 180*phase/np.pi,\"numpy\") #convert sympy to numpy\n",
    "\n",
    "fig, (ax1, ax2) = plt.subplots(2, 1)\n",
    "fig.set_size_inches(10, 10)\n",
    "fig.suptitle('Darstellung über die Frequenz')\n",
    "\n",
    "ax1.plot(w_array,20*np.log10(magnitudeN(w_array)))\n",
    "ax1.set_ylabel('Betrag in dB')\n",
    "ax1.set(xlabel='$\\omega$',xscale='log',yscale='linear',yticks=np.arange(0,min(20*np.log10(magnitudeN(w_array))),-20))\n",
    "ax1.grid()\n",
    "\n",
    "ax2.plot(w_array,phaseN(w_array))\n",
    "ax2.set(xlabel='$\\omega$',xscale='log',ylabel = 'Phase in °',yticks=[90,45,0,-45,-90])\n",
    "ax2.grid()"
   ]
  },
  {
   "cell_type": "markdown",
   "id": "88c39299-13b2-4af9-9554-e8130db73cb5",
   "metadata": {},
   "source": [
    "Es ist zu erkennen, dass bei einem Bandpass Betrag der Übertragungsfunktion zunächst mit  $20 \\ \\text{dB}$ ansteigt. Bei der Resonanzfrequenz hängt der Verlauf stark vom Wiederstandswert ab (Dämpfung). Nach der Resonanzfrequenz fällt die Dämpfung mit  $-20 \\ \\text{dB}$. Die zweite Ordnung des Systems ist auch hier an der Phasendrehung von  $180 °$ zu sehen, welche das System potentiell Schwingfähig macht."
   ]
  },
  {
   "cell_type": "markdown",
   "id": "0c81ab63-8190-4254-9a96-5ac610588694",
   "metadata": {
    "tags": []
   },
   "source": [
    "## Bandsperre\n",
    "Eine Bandsperre benötigt mindestens zwei energiespeichernde Bauteile. Daher ist sie immer mindestens zweiter Ordnung."
   ]
  },
  {
   "cell_type": "markdown",
   "id": "dbfb9333-162c-44e7-931e-6beb2b9999b3",
   "metadata": {},
   "source": [
    "```{figure} ./images/Bandsperre.jpg\n",
    ":name: bandsperre\n",
    ":width: 300px\n",
    "\n",
    "Bandsperre\n",
    "```"
   ]
  },
  {
   "cell_type": "code",
   "execution_count": 122,
   "id": "558ea402-c7e6-4e7f-8e33-a26218765dbf",
   "metadata": {
    "tags": [
     "hide-input"
    ]
   },
   "outputs": [
    {
     "data": {
      "text/markdown": [
       "Die Übertragungsfunktion"
      ],
      "text/plain": [
       "<IPython.core.display.Markdown object>"
      ]
     },
     "metadata": {},
     "output_type": "display_data"
    },
    {
     "data": {
      "text/latex": [
       "$\\displaystyle \\frac{U_{2}}{U_{1}} = \\frac{R}{R + \\frac{1}{i C \\omega - \\frac{i}{L \\omega}}}$"
      ],
      "text/plain": [
       "U₂               R            \n",
       "── = ─────────────────────────\n",
       "U₁                 1          \n",
       "     R + ─────────────────────\n",
       "                         ⅈ    \n",
       "         ⅈ⋅C⋅\\omega - ────────\n",
       "                      L⋅\\omega"
      ]
     },
     "metadata": {},
     "output_type": "display_data"
    },
    {
     "data": {
      "text/markdown": [
       "Der Betrag"
      ],
      "text/plain": [
       "<IPython.core.display.Markdown object>"
      ]
     },
     "metadata": {},
     "output_type": "display_data"
    },
    {
     "data": {
      "text/latex": [
       "$\\displaystyle Gb = \\frac{\\left|{R}\\right|}{\\sqrt{R^{2} - \\frac{1}{\\left(i C \\omega - \\frac{i}{L \\omega}\\right)^{2}}}}$"
      ],
      "text/plain": [
       "                      │R│                  \n",
       "Gb = ──────────────────────────────────────\n",
       "            _______________________________\n",
       "           ╱  2              1             \n",
       "          ╱  R  - ──────────────────────── \n",
       "         ╱                               2 \n",
       "        ╱         ⎛                ⅈ    ⎞  \n",
       "       ╱          ⎜ⅈ⋅C⋅\\omega - ────────⎟  \n",
       "     ╲╱           ⎝             L⋅\\omega⎠  "
      ]
     },
     "metadata": {},
     "output_type": "display_data"
    },
    {
     "data": {
      "text/markdown": [
       "Die Phase"
      ],
      "text/plain": [
       "<IPython.core.display.Markdown object>"
      ]
     },
     "metadata": {},
     "output_type": "display_data"
    },
    {
     "data": {
      "text/latex": [
       "$\\displaystyle Gp = \\arg{\\left(\\frac{R}{R - \\frac{i}{C \\omega - \\frac{1}{L \\omega}}} \\right)}$"
      ],
      "text/plain": [
       "        ⎛           R           ⎞\n",
       "Gp = arg⎜───────────────────────⎟\n",
       "        ⎜             ⅈ         ⎟\n",
       "        ⎜R - ───────────────────⎟\n",
       "        ⎜                  1    ⎟\n",
       "        ⎜    C⋅\\omega - ────────⎟\n",
       "        ⎝               L⋅\\omega⎠"
      ]
     },
     "metadata": {},
     "output_type": "display_data"
    }
   ],
   "source": [
    "X_C = 1/(I*w*C)\n",
    "X_L = I*w*L\n",
    "Z_p= 1/(1/X_C+1/X_L)\n",
    "Z = R + Z_p\n",
    "#display(Z_p)\n",
    "#display(Z)\n",
    "eq2=Eq(U_2/U_1,simplify(R/Z))\n",
    "display(Markdown('Die Übertragungsfunktion'))\n",
    "display(eq2)\n",
    "eq3=Eq(S('Gb'),abs(eq2.rhs))\n",
    "display(Markdown('Der Betrag'))\n",
    "display((eq3))\n",
    "eq4=Eq(S('Gp'),arg(eq2.rhs))\n",
    "display(Markdown('Die Phase'))\n",
    "display(eq4)"
   ]
  },
  {
   "cell_type": "code",
   "execution_count": 123,
   "id": "3b672f06-5919-48a8-984b-352f8839177b",
   "metadata": {},
   "outputs": [],
   "source": [
    "LN=0.1 #H\n",
    "RN=1#Ohm\n",
    "CN=10**-6 #C\n",
    "ZLN=1000 #Ohm\n",
    "\n",
    "omega_start_exponent = 0 #Exponent zur Basis 10 --> omega_start = 10^omega_start_exponent\n",
    "omega_end_exponent = 7 #Exponent zur Basis 10 --> --> omega_end = 10^omega_end_exponent"
   ]
  },
  {
   "cell_type": "code",
   "execution_count": 124,
   "id": "fcf1d1c2-7061-4ba7-be3c-58bb7c553a8a",
   "metadata": {
    "tags": [
     "hide-input"
    ]
   },
   "outputs": [
    {
     "data": {
      "text/markdown": [
       "Die Resonanzfrequenz ergibt sich aus folgender Formel."
      ],
      "text/plain": [
       "<IPython.core.display.Markdown object>"
      ]
     },
     "metadata": {},
     "output_type": "display_data"
    },
    {
     "data": {
      "text/latex": [
       "$\\displaystyle \\omega_{r} = \\frac{1}{\\sqrt{C L}}$"
      ],
      "text/plain": [
       "        1   \n",
       "ωᵣ = ───────\n",
       "       _____\n",
       "     ╲╱ C⋅L "
      ]
     },
     "metadata": {},
     "output_type": "display_data"
    },
    {
     "data": {
      "text/latex": [
       "$ \\omega_{r} = 3162.27766016838 \\ \\frac{1}{\\text{s}} $"
      ],
      "text/plain": [
       "<IPython.core.display.Latex object>"
      ]
     },
     "metadata": {},
     "output_type": "display_data"
    },
    {
     "name": "stderr",
     "output_type": "stream",
     "text": [
      "C:\\Users\\Michi\\anaconda3\\lib\\site-packages\\numpy\\core\\_asarray.py:102: ComplexWarning: Casting complex values to real discards the imaginary part\n",
      "  return array(a, dtype, copy=False, order=order)\n"
     ]
    },
    {
     "data": {
      "image/png": "[encoded data removed]",
      "text/plain": [
       "<Figure size 720x720 with 2 Axes>"
      ]
     },
     "metadata": {
      "needs_background": "light"
     },
     "output_type": "display_data"
    }
   ],
   "source": [
    "eq1 = (Eq(S('omega_r'),1/sqrt(C*L)))\n",
    "display(Markdown('Die Resonanzfrequenz ergibt sich aus folgender Formel.'))\n",
    "display(eq1)\n",
    "eq2 = Eq(eq1.lhs,convert_to(eq1.subs({C:CN,L:LN}).rhs,second))\n",
    "display(Latex('$ ' + latex(eq2) + ' \\ \\\\frac{1}{\\\\text{s}} $'))\n",
    "\n",
    "magnitude=eq3.rhs.subs({Z_L:ZLN,R:RN,C:CN,L:LN})\n",
    "phase=eq4.rhs.subs({Z_L:ZLN,R:RN,C:CN,L:LN})\n",
    "\n",
    "w_array = np.logspace(omega_start_exponent,omega_end_exponent,10**3) #generate omega array\n",
    "\n",
    "magnitudeN=lambdify(w,magnitude ,\"numpy\") #convert sympy to numpy\n",
    "\n",
    "phaseN=lambdify(w, 180*phase/np.pi,\"numpy\") #convert sympy to numpy\n",
    "\n",
    "fig, (ax1, ax2) = plt.subplots(2, 1)\n",
    "fig.set_size_inches(10, 10)\n",
    "fig.suptitle('Darstellung über die Frequenz')\n",
    "\n",
    "ax1.plot(w_array,20*np.log10(magnitudeN(w_array)))\n",
    "ax1.set_ylabel('Betrag in dB')\n",
    "ax1.set(xlabel='$\\omega$',xscale='log',yscale='linear')\n",
    "ax1.grid()\n",
    "\n",
    "ax2.plot(w_array,phaseN(w_array))\n",
    "ax2.set(xlabel='$\\omega$',xscale='log',ylabel = 'Phase in °',yticks=[90,45,0,-45,-90])\n",
    "ax2.grid()"
   ]
  },
  {
   "cell_type": "markdown",
   "id": "bb533957-3c90-442e-92e7-0be5e474db33",
   "metadata": {},
   "source": [
    "Es ist zu erkennen, dass bei einem Bandpass Betrag der Übertragungsfunktion zunächst mit  $-20 \\ \\text{dB}$ fällt. Bei der Resonanzfrequenz ist eine starke Resonanzüberhöhung zu erkennen. Nach der Resonanzfrequenz steigt die Dämpfung mit  $20 \\ \\text{dB}$. Die zweite Ordnung des Systems ist auch hier an der Phasendrehung von  $180 °$ zu sehen, welche das System potentiell Schwingfähig macht.\n",
    "Weiters ist bei dieser ausführung des Bandpassen ein Phasensprung bei der Resonanzfrequenz zu sehen."
   ]
  }
 ],
 "metadata": {
  "kernelspec": {
   "display_name": "Python 3",
   "language": "python",
   "name": "python3"
  },
  "language_info": {
   "codemirror_mode": {
    "name": "ipython",
    "version": 3
   },
   "file_extension": ".py",
   "mimetype": "text/x-python",
   "name": "python",
   "nbconvert_exporter": "python",
   "pygments_lexer": "ipython3",
   "version": "3.8.8"
  }
 },
 "nbformat": 4,
 "nbformat_minor": 5
}
