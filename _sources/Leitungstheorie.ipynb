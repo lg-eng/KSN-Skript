{
 "cells": [
  {
   "cell_type": "code",
   "execution_count": 1,
   "id": "8b57ce5c-89aa-4d55-8781-d7c83cb17632",
   "metadata": {
    "tags": [
     "hide-cell"
    ]
   },
   "outputs": [],
   "source": [
    "import warnings\n",
    "warnings.filterwarnings('ignore')\n",
    "\n",
    "from fractions import Fraction\n",
    "import numpy as np\n",
    "\n",
    "#np.seterr(all=\"ignore\")\n",
    "from myst_nb import glue\n",
    "\n",
    "from itertools import cycle\n",
    "\n",
    "import matplotlib.pyplot as plt\n",
    "from matplotlib import animation\n",
    "plt.rcParams['figure.figsize'] = [10, 5] #Plotgröße anpassen\n",
    "import matplotlib\n",
    "from matplotlib import animation, rc\n",
    "matplotlib.rcParams['text.usetex'] = True\n",
    "font = {'family' : 'normal',\n",
    "        'weight' : 'bold',\n",
    "        'size'   : 16}\n",
    "matplotlib.rc('font', **font)\n",
    "\n",
    "from sympy import *\n",
    "init_printing(use_latex='mathjax')\n",
    "\n",
    "from IPython.display import display, Markdown, Latex, Math, HTML\n",
    "\n",
    "\n",
    "def calculate_TN(vals):\n",
    "    TEq = Eq(T,1/(w/(2*pi)))\n",
    "    TEqN = Eq(T,TEq.rhs.subs(vals))\n",
    "    try:\n",
    "        vals[T] = TEqN.rhs\n",
    "    except:\n",
    "        vals = vals | {T:TEqN.rhs}\n",
    "    return vals\n",
    "\n",
    "def calculate_tN(vals,nTN):\n",
    "    #ntN multiple of Periodendauer \n",
    "    tN= nTN*T\n",
    "    tEqN = Eq(t,tN.subs(vals))\n",
    "    #display(tEqN)\n",
    "    try:\n",
    "        vals[t] = tEqN.rhs\n",
    "    except:\n",
    "        vals = vals | {t:tEqN.rhs}\n",
    "    #display(vals)\n",
    "    return vals\n",
    "\n",
    "def calculate_lamN(vals):\n",
    "    lamSubs = lamEq.rhs.subs({bet:betEq.rhs}).evalf()\n",
    "    #display(lam)\n",
    "    lamEqN = Eq(lam,lamSubs.subs(vals))\n",
    "    #display((lamEqN))\n",
    "    try:\n",
    "        vals[lam] = lamEqN.rhs\n",
    "    except:\n",
    "        vals = vals | {lam:lamEqN.rhs}\n",
    "    return vals\n",
    "\n",
    "def calculate_ZLcN(vals):\n",
    "    ZLcEqN = Eq(ZLc,ZLcEq.rhs.subs(vals))\n",
    "    #display(ZLcEqN)\n",
    "    try:\n",
    "        vals[ZLc] = ZLcEqN.rhs\n",
    "    except:\n",
    "        vals = vals | {ZLc:ZLcEqN.rhs}\n",
    "    return vals\n",
    "\n",
    "def calculate_rc0N(vals):\n",
    "    #display(rc0Eq1)\n",
    "    rc0Eq1N = Eq(rc0,rc0Eq1.rhs.subs(vals))\n",
    "    #display(rc0Eq1N)\n",
    "    try:\n",
    "        vals[rc0] = rc0Eq1N.rhs\n",
    "    except:\n",
    "        vals = vals | {rc0:rc0Eq1N.rhs}\n",
    "    try:\n",
    "        vals[rc0abs] = abs(rc0Eq1N.rhs)\n",
    "    except:\n",
    "        vals = vals | {rc0abs:abs(rc0Eq1N.rhs)}\n",
    "    try:\n",
    "        vals[rc0phase] = arg(rc0Eq1N.rhs)*180/pi\n",
    "    except:\n",
    "        vals = vals | {rc0phase:arg(rc0Eq1N.rhs)*180/pi}    \n",
    "    return vals\n",
    "\n",
    "\n",
    "def assign_LN(vals,LN):\n",
    "    #display(rc0Eq1)\n",
    "    LEqN = Eq(L,LN)\n",
    "    #display(LEqN)\n",
    "    try:\n",
    "        vals[L] = LEqN.rhs\n",
    "    except:\n",
    "        vals = vals | {L:LEqN.rhs}\n",
    "    return vals\n",
    "\n",
    "def assign_Z2N(vals,Z2cN):\n",
    "    #display(rc0Eq1)\n",
    "    Z_2cEqN = Eq(Z2c,Z2cN)\n",
    "    #display(LEqN)\n",
    "    try:\n",
    "        vals[Z2c] = Z_2cEqN.rhs\n",
    "    except:\n",
    "        vals = vals | {Z2c:Z_2cEqN.rhs}\n",
    "    return vals\n",
    "\n",
    "def assign_legend_entry(sym_legend,symbol,entry):\n",
    "    try:\n",
    "        sym_legend[symbol] = entry\n",
    "    except:\n",
    "        sym_legend = sym_legend | {symbol:entry}\n",
    "    return sym_legend\n",
    "\n",
    "def show_numerical_value(vals,symbol):\n",
    "    #display(float(vals[symbol]))\n",
    "    #display(Latex(' ' + latex(symbol) + ' = '))\n",
    "    text_template = ' %.2e'\n",
    "    #display(Latex(' ' + latex(symbol) + '  =  \\\\textrm{' + (text_template % vals[symbol]) + '}' ) )   \n",
    "    display(Eq(symbol,vals[symbol].evalf()))\n",
    "    \n",
    "def show_legend_entry(sym_legend,symbol):\n",
    "    display(Latex(' ' + latex(symbol) + '  ...  \\\\textrm{' + sym_legend[symbol] + '}' ) )\n",
    "    \n",
    "def equation_over_time(func_of_time,vals,l_array):\n",
    "    \n",
    "    func_of_timeSubs = func_of_time.rhs.subs({gam:gamEq.rhs})\n",
    "    #display(func_of_time)\n",
    "    #display(func_of_timeSubs)\n",
    "    func_of_timeN = func_of_timeSubs.subs(vals)\n",
    "    #display(func_of_timeN)\n",
    "    \n",
    "    if func_of_time==0:\n",
    "        func_of_timeNnp = np.zeros(len(l_array))\n",
    "    else:\n",
    "        func_of_timeNnp=lambdify(l, (func_of_timeN),\"numpy\") #convert sympy to numpy\n",
    "    #display(UhltNnp(0.0))\n",
    "    \n",
    "    \n",
    "    \n",
    "    return func_of_timeNnp(l_array)\n",
    "\n",
    "\n",
    "def generate_xticks(l_array):   \n",
    "    xtick_array = np.linspace(0,max(l_array),int(max(l_array)/(vals[lam]/4))+1)\n",
    "    xticklabels_array = []\n",
    "    xticklabels_template=[str(0),'$\\lambda /4 $','$\\lambda/2$','$3/4\\ \\lambda$','$\\lambda$']\n",
    "    c = 0\n",
    "    c4 = 0\n",
    "    for i in range(0,len(xtick_array)):\n",
    "        if i == 0:\n",
    "            xticklabels_array.append(0)\n",
    "        else:\n",
    "            if Fraction(i/4).denominator == 1:\n",
    "                xticklabels_array.append(r'$' + str(Fraction(i/4).numerator) + ' \\lambda$')\n",
    "            else:\n",
    "                xticklabels_array.append(r'$ \\frac{' + str(Fraction(i/4).numerator) + '}{' + str(Fraction(i/4).denominator) + ' }\\lambda$')\n",
    "    return xtick_array,xticklabels_array\n",
    "\n",
    "def generate_larray():\n",
    "    num = 500\n",
    "    return np.linspace(0,int(vals[L]/vals[lam])*float(lamEq.rhs.subs(vals)),num) #generate array\n",
    "\n",
    "def plot_over_time(*argv):\n",
    "    l_array = generate_larray()\n",
    "    show_numerical_value(vals,t)\n",
    "    show_numerical_value(vals,ZLc)\n",
    "    show_numerical_value(vals,Z2c)\n",
    "    show_numerical_value(vals,lam)\n",
    "    show_numerical_value(vals,rc0abs)\n",
    "    show_numerical_value(vals,rc0phase)\n",
    "    \n",
    "    \n",
    "    lamN = vals[lam]    \n",
    "    fig, ax1 = plt.subplots(1, 1)\n",
    "    fig.set_size_inches(10, 10)\n",
    "    fig.suptitle('Strom- und Spannungsamplitudenverlauf')\n",
    "\n",
    "    ax1.grid()\n",
    "    ax1.invert_xaxis()\n",
    "    #print(max(l_array))\n",
    "    \n",
    "    xtick_array,xticklabels_array = generate_xticks(l_array)\n",
    "        \n",
    "    ax1.set(xlabel='Länge in m',xticks=xtick_array)\n",
    "    ax1.set(xticklabels=xticklabels_array)\n",
    "    #print(xticklabels_array)\n",
    "    \n",
    "    lines = [\"-\",\"--\",\"-.\",\":\"]\n",
    "    linecycler = cycle(lines)\n",
    "    \n",
    "    for arg in argv:\n",
    "        y = equation_over_time(arg,vals,l_array)\n",
    "        ax1.plot(l_array,y,next(linecycler),label=sym_legend[arg.lhs],lw=2)\n",
    "        leg = plt.legend(loc='best', ncol=1,  shadow=False, fancybox=False)\n",
    "        \n",
    "#plot_over_time(UhltEq,UrltEq,UcltabsEq)"
   ]
  },
  {
   "cell_type": "code",
   "execution_count": null,
   "id": "4b29b6d3-5738-4fbd-958e-58495514a4c7",
   "metadata": {
    "tags": [
     "hide-cell",
     "hide-input"
    ]
   },
   "outputs": [],
   "source": [
    "sym_legend = {}\n",
    "#Complex symbols\n",
    "Uhcl,Urcl = symbols(r'\\underline{U}_h(l),\\underline{U}_r(l)',real=false)\n",
    "sym_legend = assign_legend_entry(sym_legend,Uhcl,'Komplexe hinlaufende Spannungswelle')\n",
    "sym_legend = assign_legend_entry(sym_legend,Urcl,'Komplexe rücklaufende Spannungswelle')\n",
    "\n",
    "Ihcl,Ircl = symbols(r'\\underline{I}_h(l),\\underline{I}_r(l)',real=false)\n",
    "sym_legend = assign_legend_entry(sym_legend,Ihcl,'Komplexe hinlaufende Stromwelle')\n",
    "sym_legend = assign_legend_entry(sym_legend,Ircl,'Komplexe rücklaufende Stromwelle')\n",
    "\n",
    "Uhc0,Urc0 = symbols(r'\\underline{U}_h(0),\\underline{U}_r(0)',real=false)\n",
    "sym_legend = assign_legend_entry(sym_legend,Uhc0,r'Komplexe hinlaufende Spannungswelle am Leitungsende $l=0 \\ \\text{m} $')\n",
    "sym_legend = assign_legend_entry(sym_legend,Urc0,r'Komplexe rücklaufende Spannungswelle am Leitungsende $l=0 \\ \\text{m} $')\n",
    "\n",
    "Ihc0,Irc0 = symbols(r'\\underline{I}_h(0),\\underline{I}_r(0)',real=false)\n",
    "sym_legend = assign_legend_entry(sym_legend,Ihc0,r'Komplexe hinlaufende Stromwelle am Leitungsende $l=0 \\ \\text{m} $')\n",
    "sym_legend = assign_legend_entry(sym_legend,Irc0,r'Komplexe rücklaufende Stromwelle am Leitungsende $l=0 \\ \\text{m} $')\n",
    "\n",
    "Uhclt,Urclt = symbols(r'\\underline{U}_h(l\\,t),\\underline{U}_r(l\\,t)',real=false)\n",
    "sym_legend = assign_legend_entry(sym_legend,Uhclt,'Komplexe hinlaufende Spannungswelle in Abhängigkeit der Position auf der Leitung und der Zeit')\n",
    "sym_legend = assign_legend_entry(sym_legend,Urclt,'Komplexe rücklaufende Spannungswelle in Abhängigkeit der Position auf der Leitung und der Zeit')\n",
    "\n",
    "Ihclt,Irclt = symbols(r'\\underline{I}_h(l\\,t),\\underline{I}_r(l\\,t)',real=false)\n",
    "sym_legend = assign_legend_entry(sym_legend,Ihclt,'Komplexe hinlaufende Stromwelle in Abhängigkeit der Position auf der Leitung und der Zeit')\n",
    "sym_legend = assign_legend_entry(sym_legend,Irclt,'Komplexe rücklaufende Stromwelle in Abhängigkeit der Position auf der Leitung und der Zeit')\n",
    "\n",
    "Uhc0t,Urc0t = symbols(r'\\underline{U}_h(0\\,t),\\underline{U}_r(0\\,t)',real=false)\n",
    "sym_legend = assign_legend_entry(sym_legend,Uhc0t,r'Komplexe hinlaufende Spannungswelle am Leitungsende $l=0 \\ \\text{m} $ in Abhängigkeit der Zeit')\n",
    "sym_legend = assign_legend_entry(sym_legend,Urc0t,r'Komplexe rücklaufende Spannungswelle am Leitungsende $l=0 \\ \\text{m} $ in Abhängigkeit der Zeit')\n",
    "\n",
    "Ihc0t,Irc0t = symbols(r'\\underline{I}_h(0\\,t),\\underline{I}_r(0\\,t)',real=false)\n",
    "sym_legend = assign_legend_entry(sym_legend,Ihc0t,r'Komplexe hinlaufende Stromwelle am Leitungsende $l=0 \\ \\text{m} $ in Abhängigkeit der Zeit')\n",
    "sym_legend = assign_legend_entry(sym_legend,Irc0t,r'Komplexe rücklaufende Stromwelle am Leitungsende $l=0 \\ \\text{m} $ in Abhängigkeit der Zeit')\n",
    "\n",
    "Ucl = symbols(r'\\underline{U}(l)',real=false)\n",
    "sym_legend = assign_legend_entry(sym_legend,Ucl,'Komplexe Spannungswelle')\n",
    "\n",
    "Icl = symbols(r'\\underline{I}(l)',real=false)\n",
    "sym_legend = assign_legend_entry(sym_legend,Icl,'Komplexe Stromwelle')\n",
    "\n",
    "Uclt = symbols(r'\\underline{U}(l\\,t)',real=false)\n",
    "sym_legend = assign_legend_entry(sym_legend,Uclt,'Komplexe Spannungswelle in Abhängigkeit der Position auf der Leitung und der Zeit')\n",
    "\n",
    "Iclt = symbols(r'\\underline{I}(l\\,t)',real=false)\n",
    "sym_legend = assign_legend_entry(sym_legend,Iclt,'Komplexe Stromwelle in Abhängigkeit der Position auf der Leitung und der Zeit')\n",
    "\n",
    "gam,ZLc = symbols(r'\\gamma,\\underline{Z}_L')\n",
    "sym_legend = assign_legend_entry(sym_legend,gam,'Komplexes Ausbreitungsmaß')\n",
    "sym_legend = assign_legend_entry(sym_legend,ZLc,'Komplexe Leitungsimpedanz')\n",
    "\n",
    "#Yet unknown\n",
    "U1c,U2c = symbols(r'\\underline{U}_1,\\underline{U}_2')\n",
    "sym_legend = assign_legend_entry(sym_legend,U1c,'Komplexe Spannung am Leitungsanfang $l=L$')\n",
    "sym_legend = assign_legend_entry(sym_legend,U2c,'Komplexe Spannung am Leitungsende $l=0$')\n",
    "\n",
    "I1c,I2c = symbols(r'\\underline{I}_1,\\underline{I}_2')\n",
    "sym_legend = assign_legend_entry(sym_legend,I1c,'Komplexer Strom am Leitungsanfang $l=L$')\n",
    "sym_legend = assign_legend_entry(sym_legend,I2c,'Komplexer Strom am Leitungsende $l=0$')\n",
    "\n",
    "U1ct,U2ct = symbols(r'\\underline{U}_1(t),\\underline{U}_2(t)')\n",
    "sym_legend = assign_legend_entry(sym_legend,U1ct,'Komplexe Spannung am Leitungsanfang $l=L$ in Abhängigkeit der Zeit')\n",
    "sym_legend = assign_legend_entry(sym_legend,U2ct,'Komplexe Spannung am Leitungsende $l=0$ in Abhängigkeit der Zeit')\n",
    "\n",
    "I1ct,I2ct = symbols(r'\\underline{I}_1(t),\\underline{I}_2(t)')\n",
    "sym_legend = assign_legend_entry(sym_legend,I1ct,'Komplexer Strom am Leitungsanfang $l=L$ in Abhängigkeit der Zeit')\n",
    "sym_legend = assign_legend_entry(sym_legend,I2ct,'Komplexer Strom am Leitungsende $l=0$ in Abhängigkeit der Zeit')\n",
    "\n",
    "Z1c,Z2c = symbols(r'\\underline{Z}_1,\\underline{Z}_2')\n",
    "sym_legend = assign_legend_entry(sym_legend,I1ct,'Komplexer Widerstand am Leitungsanfang $l=L$')\n",
    "sym_legend = assign_legend_entry(sym_legend,I2ct,'Komplexer Widerstand am Leitungsende $l=0$')\n",
    "\n",
    "rcl = symbols(r'\\underline{r}(l)')\n",
    "sym_legend = assign_legend_entry(sym_legend,rcl,'Komplexer Reflexionsfaktor entlang der Leitung')\n",
    "\n",
    "rc0 = symbols(r'\\underline{r}(0)')\n",
    "sym_legend = assign_legend_entry(sym_legend,rc0,'Komplexer Reflexionsfaktor am Leitungsende $l=0$ ')\n",
    "\n",
    "\n",
    "#Real symbols\n",
    "Uhl,Url = symbols(r'U_h(l),U_r(l)',real=true)\n",
    "sym_legend = assign_legend_entry(sym_legend,Uhl,'Realteil der hinlaufende Spannungswelle')\n",
    "sym_legend = assign_legend_entry(sym_legend,Url,'Realteil der rücklaufende Spannungswelle')\n",
    "\n",
    "Ihl,Irl = symbols(r'I_h(l),I_r(l)',real=true)\n",
    "sym_legend = assign_legend_entry(sym_legend,Ihl,'Realteil der hinlaufende Stromwelle')\n",
    "sym_legend = assign_legend_entry(sym_legend,Irl,'Realteil der rücklaufende Stromwelle')\n",
    "\n",
    "Uhlt,Urlt = symbols(r'U_h(l\\,t),U_r(l\\,t)',real=true)\n",
    "sym_legend = assign_legend_entry(sym_legend,Uhlt,'Realteil der hinlaufende Spannungswelle in Abhängigkeit der Zeit')\n",
    "sym_legend = assign_legend_entry(sym_legend,Urlt,'Realteil der rücklaufenden Spannungswelle in Abhängigkeit der Zeit')\n",
    "\n",
    "Ihlt,Irlt = symbols(r'I_h(l\\,t),I_r(l\\,t)',real=true)\n",
    "sym_legend = assign_legend_entry(sym_legend,Ihlt,'Realteil der hinlaufende Stromwelle in Abhängigkeit der Zeit')\n",
    "sym_legend = assign_legend_entry(sym_legend,Irlt,'Realteil der rücklaufende Stromwelle in Abhängigkeit der Zeit')\n",
    "\n",
    "Uh0t,Ur0t = symbols(r'U_h(0\\,t),U_r(0\\,t)',real=true)\n",
    "sym_legend = assign_legend_entry(sym_legend,Uh0t,'Realteil der hinlaufende Spannungswelle am Leitungsende $l=0$')\n",
    "sym_legend = assign_legend_entry(sym_legend,Ur0t,'Realteil der  rücklaufende Spannungswelle am Leitungsende $l=0$')\n",
    "\n",
    "Ih0t,Ir0t = symbols(r'I_h(0\\,t),I_r(0\\,t)',real=true)\n",
    "sym_legend = assign_legend_entry(sym_legend,Ih0t,'Realteil der hinlaufende Stromwelle am Leitungsende $l=0$')\n",
    "sym_legend = assign_legend_entry(sym_legend,Ir0t,'Realteil der rücklaufende Stromwelle am Leitungsende $l=0$')\n",
    "\n",
    "U1,U2 = symbols(r'U_1,U_2',real=true)\n",
    "sym_legend = assign_legend_entry(sym_legend,U1,'Realteil der Spannung am Leitungsanfang $l=L$')\n",
    "sym_legend = assign_legend_entry(sym_legend,U2,'Realteil der Spannung am Leitungsende $l=0$')\n",
    "\n",
    "I1,I2 = symbols(r'I_1,I_2',real=true)\n",
    "sym_legend = assign_legend_entry(sym_legend,I1,'Realteil des Stromes am Leitungsanfang $l=L$')\n",
    "sym_legend = assign_legend_entry(sym_legend,I2,'Realteil des Stromes am Leitungsende $l=0$')\n",
    "\n",
    "U1t,U2t = symbols(r'U_1(t),U_2(t)',real=true)\n",
    "sym_legend = assign_legend_entry(sym_legend,U1t,'Realteil der Spannung am Leitungsanfang $l=L$ in Abhängigkeit der Zeit')\n",
    "sym_legend = assign_legend_entry(sym_legend,U2t,'Realteil der Spannung am Leitungsende $l=0$ in Abhängigkeit der Zeit')\n",
    "\n",
    "I1t,I2t = symbols(r'I_1(t),I_2(t)',real=true)\n",
    "sym_legend = assign_legend_entry(sym_legend,I1t,'Realteil des Stromes am Leitungsanfang $l=L$ in Abhängigkeit der Zeit')\n",
    "sym_legend = assign_legend_entry(sym_legend,I2t,'Realteil des Stromes am Leitungsende $l=0$ in Abhängigkeit der Zeit')\n",
    "\n",
    "Ul = symbols(r'U(l)',real=false)\n",
    "sym_legend = assign_legend_entry(sym_legend,Ul,'Realteil der Spannungswelle')\n",
    "\n",
    "Il = symbols(r'I(l)',real=false)\n",
    "sym_legend = assign_legend_entry(sym_legend,Il,'Realteil der Stromwelle')\n",
    "\n",
    "Ult = symbols(r'U(l\\,t)',real=false)\n",
    "sym_legend = assign_legend_entry(sym_legend,Ult,'Realteil der Spannungswelle in Abhängigkeit der Zeit')\n",
    "\n",
    "Ucltabs = symbols(r'|\\underline{U}(l\\,t)|',real=true)\n",
    "sym_legend = assign_legend_entry(sym_legend,Ucltabs,'Betrag der Spannungswelle in Abhängigkeit der Zeit')\n",
    "\n",
    "Ilt = symbols(r'I(l\\,t)',real=false)\n",
    "sym_legend = assign_legend_entry(sym_legend,Ilt,'Realteil der Stromwelle in Abhängigkeit der Zeit')\n",
    "\n",
    "lam,alp,bet,ZL = symbols(r'lambda,alpha,beta,Z_L',real=true)\n",
    "sym_legend = assign_legend_entry(sym_legend,lam,'Wellenlänge')\n",
    "sym_legend = assign_legend_entry(sym_legend,alp,'Dämpfungskonstante')\n",
    "sym_legend = assign_legend_entry(sym_legend,bet,'Phasenmaß')\n",
    "sym_legend = assign_legend_entry(sym_legend,ZL,'Reelle Leitungswiderstand')\n",
    "\n",
    "Rs,Ls,Cs,Gs=symbols('R´,L´,C´,G´',real=true)\n",
    "sym_legend = assign_legend_entry(sym_legend,Rs,'Widerstandsbelag')\n",
    "sym_legend = assign_legend_entry(sym_legend,Ls,'Induktionsbelag')\n",
    "sym_legend = assign_legend_entry(sym_legend,Cs,'Kapazitätsbelag')\n",
    "sym_legend = assign_legend_entry(sym_legend,Gs,'Leitwertbelag')\n",
    "\n",
    "t,f,w,l=symbols('t,f,\\omega,l',real=true)\n",
    "T,L=symbols('T,L',real=true)\n",
    "sym_legend = assign_legend_entry(sym_legend,t,'Zeit')\n",
    "sym_legend = assign_legend_entry(sym_legend,T,'Periodendauer')\n",
    "sym_legend = assign_legend_entry(sym_legend,f,'Frequenz')\n",
    "sym_legend = assign_legend_entry(sym_legend,w,'Kreisfrequenz')\n",
    "sym_legend = assign_legend_entry(sym_legend,l,'Position auf der Leitung')\n",
    "sym_legend = assign_legend_entry(sym_legend,L,'Länge der Leitung')\n",
    "\n",
    "Z1,Z2=symbols(r'Z_1,Z_2')\n",
    "sym_legend = assign_legend_entry(sym_legend,Z1,'Widerstand am Leitungsanfang $l=L$')\n",
    "sym_legend = assign_legend_entry(sym_legend,Z2,'Widerstand am Leitungsende $l=0$')\n",
    "\n",
    "rc0abs = symbols(r'|\\underline{r(0)}|')\n",
    "sym_legend = assign_legend_entry(sym_legend,rc0,'Betrag des Reflexionsfaktors am Leitungsende $l=0$ ')\n",
    "rc0phase = symbols(r'arg(\\underline{r(0)})')\n",
    "sym_legend = assign_legend_entry(sym_legend,rc0,'Phase des Reflexionsfaktors am Leitungsende $l=0$ ')\n",
    "\n",
    "PrP = symbols(r'P_{r\\%}')\n",
    "sym_legend = assign_legend_entry(sym_legend,PrP,'Reflektierte Wirkleistung in Prozent')\n",
    "PhP = symbols(r'P_{h\\%}')\n",
    "sym_legend = assign_legend_entry(sym_legend,PhP,'Hinlaufende Wirkleistung in Prozent')\n",
    "P2P = symbols(r'P_{2\\%}')\n",
    "sym_legend = assign_legend_entry(sym_legend,P2P,'Wirkleistung am Verbraucher in Prozent')\n",
    "\n",
    "\n",
    "\n",
    "j=I"
   ]
  },
  {
   "cell_type": "markdown",
   "id": "f1bb0071-edf6-4ca3-9289-47e04a4bf53a",
   "metadata": {
    "tags": []
   },
   "source": [
    "# Leitungstheorie\n",
    "Die Leitungstheorie findet Anwendung, wenn folgende Voraussetzungen erfüllt sind:  \n",
    "- Es sich um Stromleiter handelt\n",
    "- Die Wellenlänge und die Leitungslänge sich in ähnlichen Größenordnungen befinden. \n",
    "\n",
    " {cite}`meinke2`\n",
    " {cite}`Vid1Obermann`\n",
    " {cite}`Vid2Obermann`\n",
    " {cite}`Vid3Obermann`\n",
    " In der Leitungstheorie ist der Beginn der Leitung rechts. Also vom Verbraucher zum Generator hin. Strom und Spannung werden in Abhängigkeit der Position auf der Leitung \\$l$ angegeben.\n",
    "```{figure} ./images/Leitung.jpg\n",
    ":name: Leitung\n",
    ":width: 400px\n",
    "\n",
    "Strom und Spannung auf einer Leitung\n",
    "```\n",
    "Die Leitung kann in kleine Leitungsteile zerlegt werden.\n",
    "```{figure} ./images/Leitungssegment.jpg\n",
    ":name: Leitungssegment\n",
    ":width: 400px\n",
    "\n",
    "Leitungssegment\n",
    "```"
   ]
  },
  {
   "cell_type": "markdown",
   "id": "d449248a-1a29-49a9-8ffc-2d79c883deaf",
   "metadata": {},
   "source": [
    "## Legende\n",
    "zum Einblenden auf das **+** clicken."
   ]
  },
  {
   "cell_type": "code",
   "execution_count": null,
   "id": "b816c100-71dc-4d55-ade5-a29625e5547f",
   "metadata": {
    "tags": [
     "hide-cell",
     "hide-input"
    ]
   },
   "outputs": [],
   "source": [
    "for key in sym_legend:\n",
    "    display(Latex(' ' + latex(key) + '  ...  \\\\textrm{' + sym_legend[key] + '}' ) )\n",
    "    #display(Latex('$ ' + latex(key) + '$  ...  ' + sym_legend[key] + '' ) )"
   ]
  },
  {
   "cell_type": "markdown",
   "id": "4df2b100-e96a-4f03-830e-f2fdc88654dd",
   "metadata": {},
   "source": [
    "## Leitungsgleichungen für harmonische Signale"
   ]
  },
  {
   "cell_type": "code",
   "execution_count": null,
   "id": "885f5518-1021-428c-bad2-e94620827a24",
   "metadata": {
    "tags": [
     "hide-input"
    ]
   },
   "outputs": [],
   "source": [
    "show_legend_entry(sym_legend,Uhcl)\n",
    "UhclEq = Eq(Uhcl,U1c*exp(-gam*(L-l)))\n",
    "display(UhclEq)\n",
    "\n",
    "show_legend_entry(sym_legend,Urcl)\n",
    "UrclEq = Eq(Urcl,U2c*exp(gam*(L-l)))\n",
    "display(UrclEq)\n",
    "\n",
    "show_legend_entry(sym_legend,Uhclt)\n",
    "UhcltEq = Eq(Uhclt,UhclEq.rhs*exp(j*w*t))\n",
    "display(UhcltEq)\n",
    "\n",
    "show_legend_entry(sym_legend,Urclt)\n",
    "UrcltEq = Eq(Urclt,UrclEq.rhs*exp(j*w*l))\n",
    "display(UrcltEq)\n",
    "\n",
    "show_legend_entry(sym_legend,Ucl)\n",
    "UclEq1 = Eq(Ucl,Uhcl+Urcl)\n",
    "display(UclEq1)\n",
    "\n",
    "UclEq = Eq(Ucl,UhclEq.rhs+UrclEq.rhs)\n",
    "#display(UclEq)\n",
    "\n",
    "show_legend_entry(sym_legend,Uclt)\n",
    "UcltEq1 = Eq(Uclt,Ucl*exp(j*w*t))\n",
    "display(UcltEq1)\n",
    "UcltEq = Eq(Uclt,UclEq.rhs*exp(j*w*t))\n",
    "#display(UcltEq)\n",
    "\n",
    "#IclEq = Eq(Icl,Ihcl*exp(gam*l)-Ircl*exp(-gam*l))\n",
    "#display(IclEq)\n",
    "#IcltEq = Eq(Iclt,IclEq.rhs*exp(j*w*t))\n",
    "#display(IcltEq)"
   ]
  },
  {
   "cell_type": "code",
   "execution_count": null,
   "id": "4b38d741-9bc8-4dab-88eb-227f114dbf45",
   "metadata": {
    "tags": [
     "hide-input"
    ]
   },
   "outputs": [],
   "source": [
    "show_legend_entry(sym_legend,gam)\n",
    "gamEq = Eq(gam,sqrt((Rs+j*w*Ls)*(Gs+j*w*Cs)))\n",
    "display(gamEq)\n",
    "\n",
    "show_legend_entry(sym_legend,bet)\n",
    "betEq = Eq(bet,im(gamEq.rhs))\n",
    "display(Latex(r'$\\beta = Im(\\underline{\\gamma})$'))\n",
    "\n",
    "show_legend_entry(sym_legend,alp)\n",
    "alpEq = Eq(alp,re(gamEq.rhs))\n",
    "display(Latex(r'$\\alpha = Re(\\underline{\\gamma})$'))\n",
    "\n",
    "show_legend_entry(sym_legend,ZLc)\n",
    "ZLcEq = Eq(ZLc,sqrt((Rs+j*w*Ls)/(Gs+j*w*Cs)))\n",
    "display(ZLcEq)\n",
    "\n",
    "show_legend_entry(sym_legend,lam)\n",
    "lamEq=Eq(lam,2*pi/betEq.rhs)\n",
    "display(Latex('$\\lambda = \\\\frac{2\\pi } {\\\\beta}$'))\n",
    "\n",
    "show_legend_entry(sym_legend,rc0)\n",
    "rc0Eq = Eq(rc0,Urc0/Uhc0)\n",
    "rc0Eq1 = Eq(rc0,(Z2c-ZLc)/(Z2c+ZLc))\n",
    "display(Latex('$ ' + latex(rc0Eq) + ' = ' + latex(rc0Eq1.rhs) +'$'))\n",
    "\n",
    "show_legend_entry(sym_legend,PrP)\n",
    "PrPEq = Eq(PrP,rc0**2*100)\n",
    "display(PrPEq)"
   ]
  },
  {
   "cell_type": "markdown",
   "id": "2e00c2d9-eec2-42b3-ac9a-31bddc08148c",
   "metadata": {},
   "source": [
    "## Spezialfall verlustlose Leitung\n",
    "Diese Annahme ist für hohe Frequenzen \\$f > 1 \\ \\text{MHz}\\$ ausreichend genau."
   ]
  },
  {
   "cell_type": "code",
   "execution_count": null,
   "id": "3def24aa-12b5-4029-bdb2-ad5767ecd1db",
   "metadata": {
    "tags": [
     "hide-input"
    ]
   },
   "outputs": [],
   "source": [
    "show_legend_entry(sym_legend,Gs)\n",
    "GsEqN = Eq(Gs,0)\n",
    "display(GsEqN)\n",
    "\n",
    "show_legend_entry(sym_legend,Rs)\n",
    "RsEqN = Eq(Rs,0)\n",
    "display(RsEqN)\n",
    "\n",
    "vals = {Gs:GsEqN.rhs,Rs:RsEqN.rhs}"
   ]
  },
  {
   "cell_type": "markdown",
   "id": "c4f6d79b-1503-4f32-b131-e786f75a7dbd",
   "metadata": {},
   "source": [
    "Damit vereinfachen sich die Gleichungen erheblich."
   ]
  },
  {
   "cell_type": "code",
   "execution_count": null,
   "id": "1729a0f7-d56c-456b-b89c-6037d1408b3f",
   "metadata": {
    "tags": [
     "hide-input"
    ]
   },
   "outputs": [],
   "source": [
    "ZLEq1 = Eq(ZL,ZLcEq.rhs.subs(vals).simplify())\n",
    "display(ZLEq1)\n",
    "gamEq1 = Eq(gam,j*sqrt(Ls*Cs)*w)\n",
    "display(gamEq1)\n",
    "alpEq1 = Eq(alp,0)\n",
    "display(alpEq1)\n",
    "betEq1 = Eq(bet,w*sqrt(Cs*Ls))\n",
    "display(betEq1)"
   ]
  },
  {
   "cell_type": "markdown",
   "id": "6f652f4c-8ee8-47b0-80ae-e7b6e0b91014",
   "metadata": {},
   "source": [
    "### Betrachtung der stehenden, hin- und rücklaufenden Welle\n",
    "Die **hinlaufende** Welle ergibts sich aus der Spannung am Eingang der Leitung. Für die grafische Darstellung wird der Realteil berechnet. Um die Zeitabhängigkeit zu erhalten müssen die Gleichungen mit \\$e^{j\\cdot \\omega \\cdot t}$ multipliziert werden."
   ]
  },
  {
   "cell_type": "code",
   "execution_count": null,
   "id": "3142109b-2c8c-427b-b7a8-496ba524c326",
   "metadata": {
    "tags": [
     "hide-input"
    ]
   },
   "outputs": [],
   "source": [
    "display(UhcltEq)\n",
    "UhltEq=Eq(Uhlt,re(UhcltEq.rhs))\n",
    "display(UhltEq)\n",
    "#Uh0tEq=Eq(Uh0t,UhltEq.rhs.subs({l:0}))\n",
    "#display(Uh0tEq)"
   ]
  },
  {
   "cell_type": "markdown",
   "id": "043cd029-df12-4411-9e57-8c676f521ba4",
   "metadata": {},
   "source": [
    "Die Berechnung der **stehenden** Welle erfolgt über den Reflexionsfaktor."
   ]
  },
  {
   "cell_type": "code",
   "execution_count": null,
   "id": "5ce52b52-0529-4c3e-abba-6be874e97f90",
   "metadata": {
    "tags": [
     "hide-input"
    ]
   },
   "outputs": [],
   "source": [
    "display(Markdown('Allgemein wird die stehende Welle wie folgt beschrieben.'))\n",
    "display(UclEq1)\n",
    "display(Markdown('Die hinlaufende Welle ist definiert zu.'))\n",
    "display(UhclEq)\n",
    "display(Markdown('Durch Aufteilung des Exponenten lässt sich die Gleichung umformen.'))\n",
    "UhclEq1 = Eq(Uhcl,Uhc0*exp(gam*l))\n",
    "display(UhclEq1)\n",
    "display(Markdown('Die rücklaufende Welle ist definiert zu.'))\n",
    "display(UrclEq)\n",
    "display(Markdown('Wieder lässt sich die Gleichung durch Aufteilung des Exponenten umformen.'))\n",
    "UrclEq1 = Eq(Urcl,Urc0*exp(-gam*l))\n",
    "display(UrclEq1)\n",
    "\n",
    "display(Markdown('Werden nun die umgeformten Gleichungen in die allgemeine Gleichung für die Spannung eingesetzt, erhält man eine Gleichung die nicht mehr von $U_2$ abhängt.'))\n",
    "UclEq2 = Eq(Ucl,UclEq1.subs({Uhcl:UhclEq1.rhs,Urcl:UrclEq1.rhs}))\n",
    "display(UclEq2)\n",
    "display(Markdown(r'Wird nun noch $U_h(0)$ herausgehoben, dann kann der Term $\\frac{U_r(0)}{U_h(0)} $ durch den Reflexionsfaktor ersetzt werden.'))\n",
    "UclEq2=Eq(Ucl,Uhc0*(exp(gam*l)+Urc0/Uhc0*exp(-gam*l)))\n",
    "display(UclEq2)\n",
    "display(Markdown(r'In der abschließenden Form ergibt sich die Gleichung der Spannungswelle auf der Leitung wie folgt.'))\n",
    "UclEq3=Eq(Ucl,Uhc0*(exp(gam*l)+rc0*exp(-gam*l)))\n",
    "display(UclEq3)\n",
    "display(Markdown('Die hinlaufende Welle am Kabelende, Verbraucherseitig, ergibt sich durch einsetzen von $l=0$'))\n",
    "Uhc0tEq=Eq(Uhc0t,UhcltEq.rhs.subs({l:0}))\n",
    "display(Uhc0tEq)\n",
    "display(Markdown('Wird auch diese Gleichung noch eingesetzt so erhält man die endgültige Form, die nun grafisch dargestellt werden kann.'))\n",
    "UcltEq2 = Eq(Uclt,UclEq3.rhs.subs({Uhc0:Uhc0tEq.rhs}))\n",
    "display(UcltEq2)\n",
    "#display(Markdown('Für die grafische Darstellung wird der Realteil benötigt.'))\n",
    "UltEq = Eq(Ult,re(UcltEq2.rhs))\n",
    "#display(UltEq)\n",
    "\n",
    "display(Markdown('Für die grafische Darstellung wird der Absolutwert benötigt.'))\n",
    "UcltabsEq = Eq(Ucltabs,abs(UcltEq2.rhs))\n",
    "display(UcltabsEq)"
   ]
  },
  {
   "cell_type": "markdown",
   "id": "be27e12e-0c31-4ad4-91e9-c35d4455cb02",
   "metadata": {},
   "source": [
    "Die **rücklaufende** Welle lässt sich wie folgt berechnen."
   ]
  },
  {
   "cell_type": "code",
   "execution_count": null,
   "id": "bcb8aa12-5c51-49f9-bdfa-a2b7328b16b9",
   "metadata": {
    "tags": [
     "hide-input"
    ]
   },
   "outputs": [],
   "source": [
    "display(Markdown('Die allgemeine Geichung für die stehende Welle wird auf $U_r(l)$ umgeformt.'))\n",
    "display(UclEq1)\n",
    "UrclEq1 = Eq(Urcl,solve(UclEq1,Urcl)[0])\n",
    "display(UrclEq1)\n",
    "display(Markdown(r'Die Gleichung für die stehende Welle und für die hinlaufende Welle wird eingesetzt.'))\n",
    "UrclEq2 = Eq(Urclt,(UrclEq1.rhs.subs({Ucl:UcltEq2.rhs,Uhcl:UhcltEq.rhs})).simplify())\n",
    "display(UrclEq2)\n",
    "display(Markdown('Der für die grafische darstellung benötigte Realteil.'))\n",
    "UrltEq = Eq(Urlt,re(UrclEq2.rhs))\n",
    "display(UrltEq)"
   ]
  },
  {
   "cell_type": "markdown",
   "id": "1d3f61ba-41c0-4494-afd1-102c1ba3e5e2",
   "metadata": {},
   "source": [
    "### Grafische Darstellung\n",
    "Für die grafische Darstellung wird der Realteil benötigt.\n",
    "**Alle Werte sind in den SI Einheiten OHNE Einheitenvorsatz angegeben. Winkel sind in Grad angegeben.**\n",
    "```{tip}\n",
    "Durch anklicken der Rakete rechts oben und anschließendem öffnen des Notebooks in Binder wird das Notebook interaktiv! Verschiedene Ergebnisse für verschiedene Werte können damit betrachtet werden.\n",
    "```\n",
    "\n",
    "Die Werte der Leitungsbeläge können aus dem Datenblatt oder durch Messung bestimmt werden. Typische Werte können aus der Tabelle entnommen werden. {cite}`Werteleitungsbeläge`  \n",
    "```{figure} ./images/TabelleLeitungsbelaege.png\n",
    ":name: TabelleLeitungsbelaege\n",
    ":width: 600px\n",
    "\n",
    "Typische Werte für Leitungsbeläge {cite}`Werteleitungsbeläge`  \n",
    "```\n",
    "\n"
   ]
  },
  {
   "cell_type": "code",
   "execution_count": null,
   "id": "d2970c9b-36db-4d13-9b11-df46a771f526",
   "metadata": {
    "tags": [
     "hide-input"
    ]
   },
   "outputs": [],
   "source": [
    "LsN=2.5 * 10**-9*10**2 # H/m\n",
    "LsEqN = Eq(Ls,LsN)\n",
    "vals = vals | {Ls:LsEqN.rhs}\n",
    "display(LsEqN)\n",
    "\n",
    "CsN=1 * 10**-12*10**2 # F/m\n",
    "CsEqN = Eq(Cs,CsN)\n",
    "vals = vals | {Cs:CsEqN.rhs}\n",
    "display(CsEqN)\n",
    "\n",
    "wN=2*pi*10**6 # 1/s\n",
    "wEqN = Eq(w,wN)\n",
    "vals = vals | {w:wEqN.rhs}\n",
    "display(wEqN)\n",
    "\n",
    "U1cN=8 # V\n",
    "U1cEqN = Eq(U1c,U1cN)\n",
    "vals = vals | {U1c:U1cEqN.rhs}\n",
    "display(U1cEqN)\n",
    "\n",
    "Z2cN= 10**-6  #Ohm\n",
    "vals = assign_Z2N(vals,Z2cN)\n",
    "Z2EqN = Eq(Z2c,Z2cN)\n",
    "display(Z2EqN)\n",
    "\n",
    "#I2cN=1 #A\n",
    "#I2cEqN = Eq(I2c,I2cN)\n",
    "#display(I2cEqN)"
   ]
  },
  {
   "cell_type": "code",
   "execution_count": null,
   "id": "97648962-a5a1-4eae-bf43-06faf8521066",
   "metadata": {
    "tags": [
     "hide-input"
    ]
   },
   "outputs": [],
   "source": [
    "vals = calculate_ZLcN(vals)\n",
    "vals = calculate_lamN(vals)\n",
    "vals = calculate_TN(vals) \n",
    "vals = calculate_rc0N(vals)\n",
    "vals = assign_LN(vals,4*vals[lam])\n",
    "#display(Latex('$\\underline{r(0)} = ' + latex(abs(vals[rc0])) + '\\ $'))\n",
    "#display(Eq(rc0,vals[rc0]))\n",
    "\n",
    "show_legend_entry(sym_legend,L)\n",
    "show_numerical_value(vals,L)\n",
    "show_numerical_value(vals,rc0abs)\n",
    "show_numerical_value(vals,lam)"
   ]
  },
  {
   "cell_type": "markdown",
   "id": "c9dd1e13-4f31-4a1e-8a03-0b234f510220",
   "metadata": {},
   "source": [
    "Plot der Wellen über die Leitungslänge"
   ]
  },
  {
   "cell_type": "code",
   "execution_count": null,
   "id": "22910b99-e008-45c6-9c75-8ad038599bd1",
   "metadata": {
    "tags": [
     "hide-input"
    ]
   },
   "outputs": [],
   "source": [
    "vals = calculate_tN(vals,0)\n",
    "plot_over_time(UhltEq,UrltEq,UcltabsEq)   "
   ]
  },
  {
   "cell_type": "markdown",
   "id": "261ff452-0e24-40ba-8609-8fcb068b34be",
   "metadata": {},
   "source": [
    "Die Wellen zu einem anderen Zeitpunkt."
   ]
  },
  {
   "cell_type": "code",
   "execution_count": null,
   "id": "bcd192b0-46f2-4273-b2da-b2dc795db541",
   "metadata": {
    "tags": [
     "hide-input"
    ]
   },
   "outputs": [],
   "source": [
    "vals = calculate_tN(vals,1/pi)\n",
    "plot_over_time(UhltEq,UrltEq,UcltabsEq)   "
   ]
  },
  {
   "cell_type": "markdown",
   "id": "5875a470-ce10-4a46-9d51-c45aa326aec4",
   "metadata": {},
   "source": [
    "Zeitlicher Verlauf der hin-, rück- und stehenden Welle."
   ]
  },
  {
   "cell_type": "code",
   "execution_count": null,
   "id": "c222a197-d2b7-4550-8842-f099b4442fd4",
   "metadata": {
    "tags": [
     "hide-input"
    ]
   },
   "outputs": [],
   "source": [
    "vals = calculate_tN(vals,0)\n",
    "assign_Z2N(vals,100)\n",
    "vals = calculate_rc0N(vals)\n",
    "#display(Latex('$\\underline{r(0)} = ' + latex(abs(vals[rc0])) + '\\ $'))\n",
    "#display(Eq(Z2c,vals[Z2c]))\n",
    "#display(Eq(rc0,abs(vals[rc0])))\n",
    "#display(Eq(rc0,(180/pi*arg(vals[rc0]).evalf))\n",
    "\n",
    "show_numerical_value(vals,Z2c)\n",
    "show_numerical_value(vals,ZLc)\n",
    "show_numerical_value(vals,lam)\n",
    "show_numerical_value(vals,rc0abs)\n",
    "show_numerical_value(vals,rc0phase)\n",
    "\n",
    "\n",
    "#animation\n",
    "fig, ax1 = plt.subplots(1, 1)\n",
    "#ax2 = ax1.twinx()\n",
    "lamN = vals[lam]\n",
    "l_array = generate_larray()\n",
    "\n",
    "ax1.set(xlim=(0, float(lamN)))\n",
    "ax1.grid()\n",
    "\n",
    "\n",
    "#text = ax1.text(3/4*lamN, 2.05, '')\n",
    "\n",
    "\n",
    "xtick_array,xticklabels_array = generate_xticks(l_array)\n",
    "\n",
    "#,xticklabels=[0,'$\\lambda /4 $','$\\lambda/2$','$3/4\\ \\lambda$','$\\lambda$']\n",
    "ax1.set(xlabel='Länge in m',xlim=(0, float(lamN)),xticks=xtick_array)\n",
    "ax1.set(xticklabels=xticklabels_array)\n",
    "\n",
    "ax1.set(ylabel ='Voltage in V')\n",
    "\n",
    "ax1.invert_xaxis()\n",
    "\n",
    "#ax2.set(xlabel='Länge in m',xticks=[0,lamN/4,lamN/2,3/4*lamN,lamN],xticklabels=[0,'$\\lambda /4 $','$\\lambda/2$','$3/4\\ \\lambda$','$\\lambda$'])\n",
    "line1, = ax1.plot([], [], 'b', lw=2,label=sym_legend[UhltEq.lhs])\n",
    "line2, = ax1.plot([], [], 'r--', lw=2,label=sym_legend[UrltEq.lhs])\n",
    "#line3, = ax1.plot([], [], 'k--', lw=2,label=sym_legend[UltEq.lhs])\n",
    "line4, = ax1.plot([], [], 'm--', lw=2,label=sym_legend[UcltabsEq.lhs])\n",
    "leg = plt.legend(loc=8, ncol=1,  shadow=False, fancybox=False)\n",
    "\n",
    "y1 = equation_over_time(UhltEq,vals,l_array)   \n",
    "y2 = equation_over_time(UrltEq,vals,l_array)   \n",
    "y4 = equation_over_time(UcltabsEq,vals,l_array) \n",
    "ys = np.append(np.append(y1,y2),y4)\n",
    "\n",
    "text = ax1.text(l_array[-1], max(ys)*1.05, '')\n",
    "time_template = 't = %.2e $\\mu $s'\n",
    "\n",
    "nTN_array = np.arange(0,1,0.01)\n",
    "\n",
    "def init():\n",
    "#    line, = ax.plot([], [], 'b', lw=2)\n",
    "    return line1, line2, text\n",
    "\n",
    "def animate(i):\n",
    "    nTN = nTN_array[i]\n",
    "    #display(nTN_array)\n",
    "    \n",
    "    x = l_array\n",
    "    vals1 = calculate_tN(vals,nTN)\n",
    "    \n",
    "    y1 = equation_over_time(UhltEq,vals1,l_array)\n",
    "    \n",
    "    y2 = equation_over_time(UrltEq,vals1,l_array)   \n",
    "    #display(y2)\n",
    "    \n",
    "    #y3 = equation_over_time(UltEq,vals1,l_array) \n",
    "    \n",
    "    y4 = equation_over_time(UcltabsEq,vals1,l_array) \n",
    "       \n",
    "    ax1.set(ylim= (min(np.append(np.append(y1,y2),y4)), max(np.append(np.append(y1,y2),y4))))\n",
    "    \n",
    "    line1.set_data(x, y1)\n",
    "    line2.set_data(x, y2)\n",
    "    #line3.set_data(x, y3)\n",
    "    line4.set_data(x, y4)\n",
    "    text.set_text(time_template % (vals[t]*(10**6)))\n",
    "    return line1, line2, text\n",
    "\n",
    "anim = animation.FuncAnimation(fig, animate, np.arange(1, len(nTN_array)),interval=50, blit=True, init_func=init)\n",
    "\n",
    "plt.close()\n",
    "\n",
    "HTML(anim.to_jshtml())"
   ]
  },
  {
   "cell_type": "markdown",
   "id": "02632273-b5b7-445f-9858-a0d1c8a45699",
   "metadata": {},
   "source": [
    "Wellen in Abhängigkeit des Abschlusswiderstandes \\$\\underline{Z}_2$."
   ]
  },
  {
   "cell_type": "code",
   "execution_count": null,
   "id": "f7465389-6499-4ef2-b447-e16e1b934ab7",
   "metadata": {
    "tags": [
     "hide-input"
    ]
   },
   "outputs": [],
   "source": [
    "#ax2 = ax1.twinx()\n",
    "lamN = vals[lam]\n",
    "\n",
    "vals = calculate_tN(vals,1/pi)\n",
    "vals = calculate_tN(vals,0)\n",
    "\n",
    "show_numerical_value(vals,t)\n",
    "#show_numerical_value(vals,Z2c)\n",
    "show_numerical_value(vals,ZLc)\n",
    "show_numerical_value(vals,lam)\n",
    "#show_numerical_value(vals,rc0)\n",
    "\n",
    "l_array = generate_larray()\n",
    "xtick_array,xticklabels_array = generate_xticks(l_array)\n",
    "\n",
    "#animation\n",
    "fig, ax1 = plt.subplots(1, 1)\n",
    "ax1.set(xlim=(0, float(lamN)))\n",
    "ax1.grid()\n",
    "\n",
    "\n",
    "#x-Axis\n",
    "ax1.set(xlabel='Länge in m',xlim=(0, float(lamN)),xticks=xtick_array)\n",
    "ax1.set(xticklabels=xticklabels_array)\n",
    "ax1.invert_xaxis()\n",
    "\n",
    "#y-Axis\n",
    "ax1.set(ylabel ='Voltage in V')\n",
    "y1 = equation_over_time(UhltEq,vals,l_array)\n",
    "y2 = equation_over_time(UrltEq,vals,l_array)\n",
    "y3 = equation_over_time(UcltabsEq,vals,l_array)\n",
    "ys = np.append(np.append(y1,y2),y3)\n",
    "ax1.set(ylim= (min(ys), max(ys)))\n",
    "\n",
    "\n",
    "line1, = ax1.plot([], [], 'b', lw=2,label=sym_legend[UhltEq.lhs])\n",
    "line2, = ax1.plot([], [], 'r--', lw=2,label=sym_legend[UrltEq.lhs])\n",
    "line3, = ax1.plot([], [], 'k--', lw=2,label=sym_legend[UcltabsEq.lhs])\n",
    "leg = plt.legend(loc=8, ncol=1,  shadow=False, fancybox=False)\n",
    "\n",
    "#text = ax1.text(3/4*lamN, 2.05, '')\n",
    "text_template = '$|r(0)|$ = %.2f'\n",
    "text2 = ax1.text(l_array[-1], max(ys)*1.05, '')\n",
    "text2_template = r'$ \\underline{Z}_2$ = %.2f'\n",
    "text3_template = '$arg(r(0))$ = %.2f'\n",
    "\n",
    "Z2cN_array = np.arange(0.0,10*float(vals[ZLc]),1/10*float(vals[ZLc]))\n",
    "Z2cN_array[0] = 0.01\n",
    "#print(Z2cN_array)\n",
    "\n",
    "\n",
    "def init():\n",
    "#    line, = ax.plot([], [], 'b', lw=2)\n",
    "    return line1, line2, text\n",
    "\n",
    "def animate(i):\n",
    "    Z2cN = Z2cN_array[i]\n",
    "    \n",
    "    #display(nTN_array)\n",
    "    \n",
    "    x = l_array\n",
    "    vals1 = assign_Z2N(vals,Z2cN)\n",
    "    vals1 = calculate_rc0N(vals1)\n",
    "    \n",
    "    y1 = equation_over_time(UhltEq,vals1,l_array)\n",
    "    \n",
    "    y2 = equation_over_time(UrltEq,vals1,l_array)\n",
    "    \n",
    "    y3 = equation_over_time(UcltabsEq,vals1,l_array)\n",
    "    \n",
    "    ys = np.append(np.append(y1,y2),y3)\n",
    "    \n",
    "    #ax1.set(ylim= (min(ys), max(ys)))\n",
    "    \n",
    "    line1.set_data(x, y1)\n",
    "    line2.set_data(x, y2)\n",
    "    line3.set_data(x, y3)\n",
    "    #text.set_text(text_template % (float(vals[rc0])))\n",
    "    #test2 = ('$ ' + latex(Z2c) + '  =  \\\\textrm{' +  str(vals[Z2c]) + '}$' )   \n",
    "    text2.set_text(text2_template % (float(vals[Z2c])) + ' ; ' + text_template % (float(vals[rc0abs])) + ' ; ' + text3_template % (float(vals[rc0phase])))\n",
    "    \n",
    "    return line1, line2, text\n",
    "\n",
    "anim = animation.FuncAnimation(fig, animate, np.arange(1, len(Z2cN_array)),interval=50, blit=True, init_func=init)\n",
    "\n",
    "plt.close()\n",
    "\n",
    "HTML(anim.to_jshtml())"
   ]
  },
  {
   "cell_type": "markdown",
   "id": "39755df3-7431-4b40-a0b0-60893861caf1",
   "metadata": {},
   "source": [
    "(Leitungstranformation)=\n",
    "## Leitungstranformation und Leitungsanpassung\n",
    "Unter Transformation ist zu verstehen wie die Leitung und der Abschluss der Leitung sich auf den Leitungseingang auswirken. Die Betrachtung erfolgt analog zur Vierpoltheorie. Auf die Herleitung der Transformationsgleichung aus der \\$A$ Vierpolmatrix soll an dieser Stelle verzichtet werden. {cite}`Vid3Obermann`"
   ]
  },
  {
   "cell_type": "code",
   "execution_count": null,
   "id": "8a50c0e9-625b-4102-90ab-80bf18e1aace",
   "metadata": {
    "tags": [
     "hide-input"
    ]
   },
   "outputs": [],
   "source": [
    "Z1cEq = Eq(Z1c,ZLc*((Z2c/ZLc+j*tan(2*pi*l/lam))/(1+j*(Z2c/ZLc)*tan(2*pi*l/lam))))\n",
    "display(Z1cEq)\n",
    "glue(\"Z1cEq\", Z1cEq, display=False)"
   ]
  },
  {
   "cell_type": "code",
   "execution_count": null,
   "id": "50a6c9eb-9070-4aa1-a3d4-14b6ff0a4be1",
   "metadata": {
    "tags": [
     "hide-cell"
    ]
   },
   "outputs": [],
   "source": [
    "#Numerical Test\n",
    "Z2cN= 100 + j*100  #Ohm\n",
    "vals = assign_Z2N(vals,Z2cN)\n",
    "Z2EqN = Eq(Z2c,Z2cN)\n",
    "display(Z2EqN)\n",
    "vals[l] = 0.15*vals[lam]\n",
    "display(Z1cEq.subs(vals).evalf())"
   ]
  },
  {
   "cell_type": "markdown",
   "id": "6a3e75d0-24aa-4b3e-aebc-25c0ff67938b",
   "metadata": {},
   "source": [
    "### Spezialfall Kurzschluss am Ausgang"
   ]
  },
  {
   "cell_type": "code",
   "execution_count": null,
   "id": "ed295f13-b373-4bf4-9cac-fe0cf4df2167",
   "metadata": {
    "tags": [
     "hide-input"
    ]
   },
   "outputs": [],
   "source": [
    "Z1cshortedEq=Eq(Z1c,limit(Z1cEq.rhs,Z2c,0))\n",
    "display(Z1cshortedEq)"
   ]
  },
  {
   "cell_type": "markdown",
   "id": "578d69e1-8c93-42da-997a-79a6dfc46dfb",
   "metadata": {},
   "source": [
    "### Spezialfall Leerlauf am Ausgang"
   ]
  },
  {
   "cell_type": "code",
   "execution_count": null,
   "id": "e0f60e92-e5a4-4801-a4ff-2814d9e0a7be",
   "metadata": {
    "tags": [
     "hide-input"
    ]
   },
   "outputs": [],
   "source": [
    "Z1copenEq=Eq(Z1c,limit(Z1cEq.rhs,Z2c,oo))\n",
    "display(Z1copenEq) "
   ]
  },
  {
   "cell_type": "markdown",
   "id": "838915eb-e8a2-406d-8884-5ec201a41f4c",
   "metadata": {
    "tags": []
   },
   "source": [
    "### Spezialfall \\$\\frac{\\lambda}{4}$ Leiter\n",
    "Anwendung als EMI-Schleife als Blitzschutz.\n",
    "```{figure} ./images/EMI-Schleife.png\n",
    ":name: EMI-Schleife\n",
    ":width: 400px\n",
    "\n",
    "EMI-Schleife\n",
    "```"
   ]
  },
  {
   "cell_type": "code",
   "execution_count": null,
   "id": "1c5263e4-f2ff-4fea-83f0-3d0f05987bc7",
   "metadata": {
    "tags": [
     "hide-input"
    ]
   },
   "outputs": [],
   "source": [
    "Z1clam4Eq=Eq(Z1c,limit(Z1cEq.rhs,l,lam/4))\n",
    "display(Z1clam4Eq)"
   ]
  },
  {
   "cell_type": "markdown",
   "id": "e43d5bf5-8afb-4d6b-9a21-44e909aa646c",
   "metadata": {
    "tags": []
   },
   "source": [
    "#### \\$\\frac{\\lambda}{4}\\$ Leiter Kurzgeschlossen  \n",
    "\n",
    "\\$\\underline{Z}_2 = 0 \\ \\Omega \\$.   \n",
    "\\$\\underline{Z}_1 \\$ geht gegen \\$\\infty$. Das bedeutet, dass eine Quelle am Eingang quasi im Leerlauf arbeitet."
   ]
  },
  {
   "cell_type": "code",
   "execution_count": null,
   "id": "e68a43b1-657e-4683-b1da-1396f8991996",
   "metadata": {
    "tags": [
     "hide-input"
    ]
   },
   "outputs": [],
   "source": [
    "Z1clam4shortedEq=Eq(Z1c,limit(Z1clam4Eq.rhs,Z2c,0))\n",
    "display(Z1clam4shortedEq)"
   ]
  },
  {
   "cell_type": "markdown",
   "id": "3a4925a4-9e1c-4ee7-9c66-5f8b694befcb",
   "metadata": {},
   "source": [
    "#### \\$\\frac{\\lambda}{4}$ Leiter Leerlauf  \n",
    "\n",
    " \\$ \\underline{Z}_2 = \\infty \\ \\Omega \\$.   \n",
    "\\$ \\underline{Z}_1 \\$ geht gegen \\$0$. Das bedeutet, dass eine Quelle am Eingang quasi Kurzgeschlossen wird."
   ]
  },
  {
   "cell_type": "code",
   "execution_count": null,
   "id": "8875ff69-2b85-47bb-884a-1c02b42e9ccf",
   "metadata": {
    "tags": [
     "hide-input"
    ]
   },
   "outputs": [],
   "source": [
    "Z1clam4openEq=Eq(Z1c,limit(Z1clam4Eq.rhs,Z2c,oo))\n",
    "display(Z1clam4openEq)"
   ]
  },
  {
   "cell_type": "markdown",
   "id": "7acf48e1-c09e-48d8-8fc0-c8a7da3ef6f3",
   "metadata": {},
   "source": [
    "### Spezialfall \\$\\frac{\\lambda}{2}$ Leiter"
   ]
  },
  {
   "cell_type": "code",
   "execution_count": null,
   "id": "585a86c7-5a93-4185-a375-840588ff0c39",
   "metadata": {
    "tags": [
     "hide-input"
    ]
   },
   "outputs": [],
   "source": [
    "Z1clam2Eq=Eq(Z1c,limit(Z1cEq.rhs,l,lam/2))\n",
    "display(Z1clam2Eq)"
   ]
  },
  {
   "cell_type": "markdown",
   "id": "df9fac74-a167-4cf2-b3c1-3cd5dec57a87",
   "metadata": {},
   "source": [
    "## Anpassung  \n",
    "\n",
    "Unter Anpassung in der Leitungstheorie versteht man, dass Elemente der Signalkette reflexionsfrei gekoppelt werden \\$ |\\underline{r}(0)| = 0 \\$. Die Gleichung aus dem Abschnitt [Leitungstransformation](Leitungstranformation) kann dafür gelöst werden. Eine Alternative bietet das Smith Diagramm. Es geht also darum Lasten die eine Impedanz ungleich der Leitungsimpedanz haben Reflexionsfrei anzuschließen.  \n",
    "Es ist zwischen der Leitungsanpassung und der Lei**s**tungsanpassung zu unterscheiden. Hier soll die Leitungsanpassung betrachtet werden. Leitungsanpassung liegt vor, wenn der Leitungswiderstand \\$\\underline{Z}_L \\$ gleich dem Abschlusswiderstand \\$\\underline{Z}_2$ ist. Leistungsanpassung dazu würde vorliegen, wenn \\$ \\underline{Z}_2 \\$ gleich dem konjugiert-komplexen Leitungswiderstand \\$ \\underline{Z}_L^* \\$ entspricht."
   ]
  },
  {
   "cell_type": "markdown",
   "id": "856c1807-766c-460e-9902-3e1f9ea9a87a",
   "metadata": {},
   "source": [
    "Die Fragestellung lautet, wie die Widerstände angepasst werden wenn diese nicht gleich groß sind.\n",
    "```{figure} ./images/Anpassung1.png\n",
    ":name: Anpassungsproblem\n",
    ":width: 400px\n",
    "\n",
    "Anpassungsproblem\n",
    "```\n",
    "\n",
    "Wenn der Leitungswiderstand \\$ \\underline{Z}_L \\$ kleiner als der Lastwiderstand \\$ \\underline{Z}_2 \\$ ist muss die folgende Kompensationsschaltung verwendet werden.\n",
    "```{figure} ./images/AnpassungZLsmallerZ2.png\n",
    ":name: AnpassungZLsmallerZ2\n",
    ":width: 400px\n",
    "\n",
    "Anpassung bei \\$ \\underline{Z}_L < \\underline{Z}_2 \\$\n",
    "```\n",
    "\n",
    "Wenn der Leitungswiderstand \\$ \\underline{Z}_L \\$ größe als der Lastwiderstand \\$ \\underline{Z}_2 \\$ ist muss die folgende Kompensationsschaltung verwendet werden.\n",
    "```{figure} ./images/AnpassungZLbiggerZ2.png\n",
    ":name: AnpassungZLbiggerZ2\n",
    ":width: 400px\n",
    "\n",
    "Anpassung bei \\$ \\underline{Z}_L > \\underline{Z}_2 \\$\n",
    "```"
   ]
  }
 ],
 "metadata": {
  "kernelspec": {
   "display_name": "Python 3 (ipykernel)",
   "language": "python",
   "name": "python3"
  },
  "language_info": {
   "codemirror_mode": {
    "name": "ipython",
    "version": 3
   },
   "file_extension": ".py",
   "mimetype": "text/x-python",
   "name": "python",
   "nbconvert_exporter": "python",
   "pygments_lexer": "ipython3",
   "version": "3.8.11"
  }
 },
 "nbformat": 4,
 "nbformat_minor": 5
}
