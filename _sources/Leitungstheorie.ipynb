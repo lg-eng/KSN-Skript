{
 "cells": [
  {
   "cell_type": "code",
   "execution_count": 9,
   "id": "e1001aba-bd16-4aeb-8b4f-49876d69eef2",
   "metadata": {
    "tags": [
     "hide-cell"
    ]
   },
   "outputs": [],
   "source": [
    "import numpy as np\n",
    "import matplotlib.pyplot as plt\n",
    "plt.rcParams['figure.figsize'] = [10, 5] #Plotgröße anpassen\n",
    "import matplotlib\n",
    "matplotlib.rcParams['text.usetex'] = True\n",
    "font = {'family' : 'normal',\n",
    "        'weight' : 'bold',\n",
    "        'size'   : 18}\n",
    "matplotlib.rc('font', **font)\n",
    "from sympy import *\n",
    "init_printing(use_latex='mathjax')\n",
    "from scipy import signal\n",
    "from IPython.display import display, Markdown\n",
    "\n",
    "Rs,Ls,Cs,w,Z_L,Gs=symbols('R´,L´,C´,\\omega,Z_L,G´',real=true)\n",
    "j = I\n",
    "Ur,Uh=symbols(r'\\underline{U}_r,\\underline{U}_h',real=false)"
   ]
  },
  {
   "cell_type": "markdown",
   "id": "4d9b06f4-0056-4c1a-a5d8-2b4abef709fe",
   "metadata": {
    "tags": [
     "hide-cell"
    ]
   },
   "source": [
    "# Leitungstheorie\n",
    " {cite}`meinke2`"
   ]
  },
  {
   "cell_type": "markdown",
   "id": "d18367ff-5fa9-4dfe-94e2-36b871da773e",
   "metadata": {},
   "source": [
    "In der Leitungstheorie ist der Begin der Leitung Links. Also vom Verbraucher zum Generator hin. Strom und Spannung werden in Anhängigkeit der Position auf der Leitung $l$ angegeben.\n",
    "```{figure} ./images/Leitung.jpg\n",
    ":name: Leitung\n",
    ":width: 400px\n",
    "\n",
    "Strom und Spannung auf einer Leitung\n",
    "```"
   ]
  },
  {
   "cell_type": "markdown",
   "id": "d22679fe-42f3-4068-a44c-b7fc68beec14",
   "metadata": {},
   "source": [
    "Die Leitung kann in kleine Leitungsteile zerlegt werden.\n",
    "```{figure} ./images/Leitungssegment.jpg\n",
    ":name: Leitungssegment\n",
    ":width: 400px\n",
    "\n",
    "Leitungssegment\n",
    "```"
   ]
  },
  {
   "cell_type": "markdown",
   "id": "5d9e2f85-1e38-4a63-a16f-bb7a84367e3b",
   "metadata": {},
   "source": [
    "## Begriffe und Definitionen"
   ]
  },
  {
   "cell_type": "markdown",
   "id": "b37a2228-fb25-494b-9c57-17931c6e78ad",
   "metadata": {},
   "source": [
    "| Symbol | Beschreibung  |\n",
    "|--------|---:|\n",
    "| $l$    |  Position auf der Leitung |\n",
    "| $\\underline{U}(l)$ | Spannung an der Position $l$ auf der Leitung|\n",
    "| $\\underline{I}(l)$ | Strom an der Position $l$ auf der Leitung|\n",
    "| $\\underline{U}_h(l,t)$ | Spannung an der Position $l$ zum Zeitpunkt $t$ vom Generator zum Verbraucher laufend, $h$ für hin|\n",
    "| $\\underline{I}_h(l,t)$ | Strom an der Position $l$ zum Zeitpunkt $t$ vom Generator zum Verbraucher laufend, $h$ für hin|\n",
    "| $\\underline{U}_r(l,t)$ | Spannung an der Position $l$ zum Zeitpunkt $t$ vom Generator zum Verbraucher laufend, $r$ für rück|\n",
    "| $\\underline{I}_r(l,t)$ | Strom an der Position $l$ zum Zeitpunkt $t$ vom Generator zum Verbraucher laufend, $r$ für rück|\n",
    "| $U_1$ | Spannung am Leitungseingang|\n",
    "| $U_2$ | Spannung am Leiungsausgang $U_2 = U(l=0)$|\n",
    "| $R'$| Widerstandsbelag in $\\frac{\\Omega}{m}$|\n",
    "| $L'$| Induktionsbelag in $\\frac{H}{m}$|\n",
    "| $G'$| Ableitungsbelag in $\\frac{S}{m}$|\n",
    "| $C'$| Kapazitätsbelag in $\\frac{F}{m}$|\n",
    "|$Z_L$| Leitungswiderstand|\n",
    "|$Z_2$| Lastwiderstand|"
   ]
  },
  {
   "cell_type": "markdown",
   "id": "3bbc1ae7-776a-426c-953f-99000e36edcd",
   "metadata": {},
   "source": [
    "Die Werte der Leitungsbeläge müssen durch Messung bestimmt werden."
   ]
  },
  {
   "cell_type": "markdown",
   "id": "29d375a9-bc5b-45bb-8c8d-1160d490a7e8",
   "metadata": {},
   "source": [
    "### Leitungswiderstand"
   ]
  },
  {
   "cell_type": "code",
   "execution_count": 8,
   "id": "ab0f8d37-7f6f-4781-b44d-78ecf8be832e",
   "metadata": {
    "tags": [
     "hide-input"
    ]
   },
   "outputs": [
    {
     "data": {
      "text/latex": [
       "$\\displaystyle Z_{L} = \\sqrt{\\frac{i L´ \\omega + R´}{i C´ \\omega + G´}}$"
      ],
      "text/plain": [
       "          __________________\n",
       "         ╱ ⅈ⋅L´⋅\\omega + R´ \n",
       "Z_L =   ╱  ──────────────── \n",
       "      ╲╱   ⅈ⋅C´⋅\\omega + G´ "
      ]
     },
     "metadata": {},
     "output_type": "display_data"
    }
   ],
   "source": [
    "eq1 = Eq(Z_L,sqrt((Rs+j*w*Ls)/(Gs+j*w*Cs)))\n",
    "display(eq1)"
   ]
  },
  {
   "cell_type": "markdown",
   "id": "08819676-dd2c-44c3-a774-0b7b3cb83c5e",
   "metadata": {},
   "source": [
    "### Reflexionsfaktor"
   ]
  },
  {
   "cell_type": "code",
   "execution_count": 11,
   "id": "05eb377c-84ef-404e-8178-048ee5b329db",
   "metadata": {
    "tags": [
     "hide-input"
    ]
   },
   "outputs": [
    {
     "data": {
      "text/latex": [
       "$\\displaystyle r = \\frac{\\underline{U}_r}{\\underline{U}_h}$"
      ],
      "text/plain": [
       "    \\underline{U}ᵣ\n",
       "r = ──────────────\n",
       "    \\underline{U}ₕ"
      ]
     },
     "metadata": {},
     "output_type": "display_data"
    }
   ],
   "source": [
    "eq2=Eq(S('r'),Ur/Uh)\n",
    "display(eq2)"
   ]
  },
  {
   "cell_type": "markdown",
   "id": "d4c1c4f8-98c3-4d17-98fb-e2a2ec0445ef",
   "metadata": {},
   "source": [
    "## Leitungsabschlüsse"
   ]
  },
  {
   "cell_type": "markdown",
   "id": "4e221f99-4411-41bd-b970-df1144f348cc",
   "metadata": {},
   "source": [
    "### Beliebiger Abschluss"
   ]
  }
 ],
 "metadata": {
  "kernelspec": {
   "display_name": "Python 3 (ipykernel)",
   "language": "python",
   "name": "python3"
  },
  "language_info": {
   "codemirror_mode": {
    "name": "ipython",
    "version": 3
   },
   "file_extension": ".py",
   "mimetype": "text/x-python",
   "name": "python",
   "nbconvert_exporter": "python",
   "pygments_lexer": "ipython3",
   "version": "3.9.7"
  }
 },
 "nbformat": 4,
 "nbformat_minor": 5
}
