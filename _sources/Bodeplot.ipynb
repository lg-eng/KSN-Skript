{
 "cells": [
  {
   "cell_type": "code",
   "execution_count": 1,
   "id": "521de983-b30e-416a-8fa7-ed66980ae6f9",
   "metadata": {
    "tags": [
     "hide-cell"
    ]
   },
   "outputs": [],
   "source": [
    "import numpy as np\n",
    "import matplotlib.pyplot as plt\n",
    "plt.rcParams['figure.figsize'] = [10, 5] #Plotgröße anpassen\n",
    "import matplotlib\n",
    "matplotlib.rcParams['text.usetex'] = True\n",
    "font = {'family' : 'normal',\n",
    "        'weight' : 'bold',\n",
    "        'size'   : 18}\n",
    "matplotlib.rc('font', **font)\n",
    "from sympy import *\n",
    "from sympy.physics.units import ohm, ampere, henry, farad,second, convert_to\n",
    "init_printing(use_latex='mathjax')\n",
    "#from scipy import signal\n",
    "from IPython.display import display, Markdown, Latex, Math\n",
    "\n",
    "R,L,C,w=symbols('R,L,C,\\omega',real=true)\n",
    "Ic,U,U_1,U_2,I_1,I_2,Z_L=symbols('Ic,U,U_1,U_2,I_1,I_2,Z_L')\n",
    "phi=symbols(\"\\phi\",real=true)"
   ]
  },
  {
   "cell_type": "markdown",
   "id": "33a073b8-ddb6-4497-89d1-2c647f9162b1",
   "metadata": {},
   "source": [
    "# Bodediagramme von Filter"
   ]
  },
  {
   "cell_type": "markdown",
   "id": "3a804812-3f1f-4776-b049-094360b370d5",
   "metadata": {},
   "source": [
    "##  Tiefpasses erster Ordnung"
   ]
  },
  {
   "cell_type": "markdown",
   "id": "15358bdd-416f-4f04-8c62-b8b15a3e4c45",
   "metadata": {},
   "source": [
    "```{figure} ./images/TP_1ord.jpg\n",
    ":name: tp_1ord\n",
    ":width: 300px\n",
    "\n",
    "Tiefpass erster Ordnung\n",
    "```"
   ]
  },
  {
   "cell_type": "markdown",
   "id": "ae577572-cd0c-43e1-838e-0871da88a1a3",
   "metadata": {},
   "source": [
    "Die Vierpoltheorie erlaubt es den Tiefpass mittels Matrizenschreibweise zu beschreiben."
   ]
  },
  {
   "cell_type": "code",
   "execution_count": 2,
   "id": "2bbc3e26-aa1d-4b87-9db6-1ee9e1b02e9d",
   "metadata": {
    "tags": [
     "hide-input"
    ]
   },
   "outputs": [
    {
     "data": {
      "text/latex": [
       "$\\displaystyle A = \\left[\\begin{matrix}i C R \\omega + 1 & R\\\\i C \\omega & 1\\end{matrix}\\right]$"
      ],
      "text/plain": [
       "<IPython.core.display.Math object>"
      ]
     },
     "metadata": {},
     "output_type": "display_data"
    }
   ],
   "source": [
    "A = Matrix([[I*w*C*R+1,R],[I*w*C,1]])\n",
    "display(Math('$A = ' + latex(A) + '$'))"
   ]
  },
  {
   "cell_type": "code",
   "execution_count": 3,
   "id": "1332ddfb-047b-47ca-a0d5-c35b8d1bbbd4",
   "metadata": {
    "tags": [
     "hide-input"
    ]
   },
   "outputs": [
    {
     "data": {
      "text/latex": [
       "$\\displaystyle  \\left[\\begin{matrix}U_{1}\\\\I_{1}\\end{matrix}\\right] = \\left[\\begin{matrix}i C R \\omega + 1 & R\\\\i C \\omega & 1\\end{matrix}\\right]\\cdot\\left[\\begin{matrix}U_{2}\\\\I_{2}\\end{matrix}\\right] $"
      ],
      "text/plain": [
       "<IPython.core.display.Math object>"
      ]
     },
     "metadata": {},
     "output_type": "display_data"
    }
   ],
   "source": [
    "X=Matrix([[S('U_2')],[S('I_2')]])\n",
    "Y=Matrix([[S('U_1')],[S('I_1')]])\n",
    "display(Math('$ ' + latex(Y) + ' = ' + latex(A) + '\\cdot' + latex(X) +  ' $'))"
   ]
  },
  {
   "cell_type": "markdown",
   "id": "deac339e-4210-47d5-b409-3f8fb8cfa8b6",
   "metadata": {},
   "source": [
    "Die Übetragungsfunktion der Spannung ergibt sich mit folgender Beziehung.\n",
    "$ U_1 = U_2 \\cdot (a_11 + a_12/Z_L)\\cdot  $"
   ]
  },
  {
   "cell_type": "code",
   "execution_count": 4,
   "id": "704e6c0a-25c6-490c-b6dc-f2867f436ee7",
   "metadata": {
    "tags": [
     "hide-input"
    ]
   },
   "outputs": [
    {
     "data": {
      "text/latex": [
       "$\\displaystyle \\frac{U_{2}}{U_{1}} = \\frac{Z_{L}}{R + Z_{L} \\left(i C R \\omega + 1\\right)}$"
      ],
      "text/plain": [
       "U₂              Z_L            \n",
       "── = ──────────────────────────\n",
       "U₁   R + Z_L⋅(ⅈ⋅C⋅R⋅\\omega + 1)"
      ]
     },
     "execution_count": 4,
     "metadata": {},
     "output_type": "execute_result"
    }
   ],
   "source": [
    "eq1=Eq(U_2/U_1,simplify(1/(A[0,0]+A[0,1]/Z_L)))\n",
    "eq1"
   ]
  },
  {
   "cell_type": "markdown",
   "id": "47718b3a-5c41-43f6-8e37-490bc3cac765",
   "metadata": {},
   "source": [
    "Wird der Tiefpass im Leerlauf betrachtet so kann von einem unendlich großen $Z_L$ ausgegangen werden. damit vereinfacht sich die Übertragungsfunktion. "
   ]
  },
  {
   "cell_type": "code",
   "execution_count": 5,
   "id": "dd36dd4c-5bd8-4c2d-8406-7a12c0d88c60",
   "metadata": {
    "tags": [
     "hide-input"
    ]
   },
   "outputs": [
    {
     "data": {
      "text/latex": [
       "$\\displaystyle \\frac{U_{2}}{U_{1}} = \\frac{1}{i C R \\omega + 1}$"
      ],
      "text/plain": [
       "U₂          1        \n",
       "── = ────────────────\n",
       "U₁   ⅈ⋅C⋅R⋅\\omega + 1"
      ]
     },
     "execution_count": 5,
     "metadata": {},
     "output_type": "execute_result"
    }
   ],
   "source": [
    "eq1=Eq(U_2/U_1,simplify(1/(A[0,0])))\n",
    "eq1"
   ]
  },
  {
   "cell_type": "markdown",
   "id": "d1b849ed-04bf-4f21-a1dd-c931aff690a3",
   "metadata": {},
   "source": [
    "Alternativ kann die Übertragungsgleichung auch mittels Spannungsteiler hergeleitet werden."
   ]
  },
  {
   "cell_type": "code",
   "execution_count": 6,
   "id": "730aba78-0185-4f8e-844a-c520fbab7c45",
   "metadata": {
    "tags": [
     "hide-input"
    ]
   },
   "outputs": [
    {
     "data": {
      "text/latex": [
       "$\\displaystyle \\frac{U_{2}}{U_{1}} = - \\frac{i}{C R \\omega - i}$"
      ],
      "text/plain": [
       "U₂        -ⅈ       \n",
       "── = ──────────────\n",
       "U₁   C⋅R⋅\\omega - ⅈ"
      ]
     },
     "execution_count": 6,
     "metadata": {},
     "output_type": "execute_result"
    }
   ],
   "source": [
    "Z_p = (1/(I*w*C))\n",
    "Z = Z_p + R\n",
    "#display(Z_p)\n",
    "#display(Z)\n",
    "eq2=Eq(U_2/U_1,simplify(Z_p/Z))\n",
    "eq2"
   ]
  },
  {
   "cell_type": "markdown",
   "id": "a388850e-255d-4ef6-8f0e-7fd106e8680b",
   "metadata": {},
   "source": [
    "## Frequenzverlauf - Bodediagramm"
   ]
  },
  {
   "cell_type": "markdown",
   "id": "99b9341b-dd4b-476b-b97e-ce3de0f04ec0",
   "metadata": {},
   "source": [
    "Betrag der Übertragungsfunktion"
   ]
  },
  {
   "cell_type": "code",
   "execution_count": 7,
   "id": "c3d1c5d4-cc3f-4d51-9bde-e1f9d1c6c4aa",
   "metadata": {
    "tags": [
     "hide-input"
    ]
   },
   "outputs": [
    {
     "data": {
      "text/latex": [
       "$\\displaystyle Gb = \\frac{1}{\\sqrt{C^{2} R^{2} \\omega^{2} + 1}}$"
      ],
      "text/plain": [
       "               1           \n",
       "Gb = ──────────────────────\n",
       "        ___________________\n",
       "       ╱  2  2       2     \n",
       "     ╲╱  C ⋅R ⋅\\omega  + 1 "
      ]
     },
     "execution_count": 7,
     "metadata": {},
     "output_type": "execute_result"
    }
   ],
   "source": [
    "eq3=Eq(S('Gb'),abs(eq2.rhs))\n",
    "eq3"
   ]
  },
  {
   "cell_type": "markdown",
   "id": "32f59057-4de9-4b97-9fbc-65b0f019afbd",
   "metadata": {},
   "source": [
    "Phase der Übertragungsfunktion"
   ]
  },
  {
   "cell_type": "code",
   "execution_count": 8,
   "id": "0968b022-86bf-4f36-99b3-714e8212df37",
   "metadata": {
    "tags": [
     "hide-input"
    ]
   },
   "outputs": [
    {
     "data": {
      "text/latex": [
       "$\\displaystyle Gp = \\arg{\\left(- \\frac{i}{C R \\omega - i} \\right)}$"
      ],
      "text/plain": [
       "        ⎛     -ⅈ       ⎞\n",
       "Gp = arg⎜──────────────⎟\n",
       "        ⎝C⋅R⋅\\omega - ⅈ⎠"
      ]
     },
     "execution_count": 8,
     "metadata": {},
     "output_type": "execute_result"
    }
   ],
   "source": [
    "eq4=Eq(S('Gp'),arg(eq2.rhs))\n",
    "eq4"
   ]
  },
  {
   "cell_type": "code",
   "execution_count": 9,
   "id": "ca145349-16c2-4a86-812b-caf3b4abc40a",
   "metadata": {
    "tags": [
     "hide-input"
    ]
   },
   "outputs": [
    {
     "data": {
      "text/markdown": [
       "Die Grezfrequenz ergibt sich aus folgender Formel."
      ],
      "text/plain": [
       "<IPython.core.display.Markdown object>"
      ]
     },
     "metadata": {},
     "output_type": "display_data"
    },
    {
     "data": {
      "text/latex": [
       "$\\displaystyle \\omega_{g} = \\frac{1}{C R}$"
      ],
      "text/plain": [
       "       1 \n",
       "ω_g = ───\n",
       "      C⋅R"
      ]
     },
     "execution_count": 9,
     "metadata": {},
     "output_type": "execute_result"
    }
   ],
   "source": [
    "display(Markdown('Die Grezfrequenz ergibt sich aus folgender Formel.'))\n",
    "eq1 = (Eq(S('omega_g'),1/(R*C)))\n",
    "eq1"
   ]
  },
  {
   "cell_type": "code",
   "execution_count": 10,
   "id": "ccc0d9fa-3f73-40b7-9d24-9c595882c434",
   "metadata": {
    "tags": [
     "hide-input"
    ]
   },
   "outputs": [
    {
     "data": {
      "text/latex": [
       "$ \\omega_{g} = 1000.0 \\ \\frac{1}{\\text{s}} $"
      ],
      "text/plain": [
       "<IPython.core.display.Latex object>"
      ]
     },
     "metadata": {},
     "output_type": "display_data"
    }
   ],
   "source": [
    "LN=0.1 #H\n",
    "RN=1000#Ohm\n",
    "CN=10**-6 #C\n",
    "ZLN=1000 #Ohm\n",
    "\n",
    "omega_start_exponent = 0 #Exponent zur Basis 10 --> omega_start = 10^omega_start_exponent\n",
    "omega_end_exponent = 7 #Exponent zur Basis 10 --> --> omega_end = 10^omega_end_exponent\n",
    "eq2 = Eq(eq1.lhs,convert_to(eq1.subs({C:CN,R:RN}).rhs,second))\n",
    "eq2\n",
    "display(Latex('$ ' + latex(eq2) + ' \\ \\\\frac{1}{\\\\text{s}} $'))"
   ]
  },
  {
   "cell_type": "code",
   "execution_count": 11,
   "id": "183065b3-c081-476c-bc7c-4cf3db835105",
   "metadata": {
    "tags": [
     "hide-input"
    ]
   },
   "outputs": [
    {
     "data": {
      "image/png": "[encoded data removed]",
      "text/plain": [
       "<Figure size 720x720 with 2 Axes>"
      ]
     },
     "metadata": {
      "needs_background": "light"
     },
     "output_type": "display_data"
    }
   ],
   "source": [
    "magnitude=eq3.rhs.subs({Z_L:ZLN,R:RN,C:CN,L:LN})\n",
    "phase=eq4.rhs.subs({Z_L:ZLN,R:RN,C:CN,L:LN})\n",
    "\n",
    "w_array = np.logspace(omega_start_exponent,omega_end_exponent,50) #generate omega array\n",
    "\n",
    "magnitudeN=lambdify(w,magnitude ,\"numpy\") #convert sympy to numpy\n",
    "\n",
    "phaseN=lambdify(w, 180*phase/np.pi,\"numpy\") #convert sympy to numpy\n",
    "\n",
    "fig, (ax1, ax2) = plt.subplots(2, 1)\n",
    "fig.set_size_inches(10, 10)\n",
    "fig.suptitle('Darstellung über die Frequenz')\n",
    "\n",
    "ax1.plot(w_array,20*np.log10(magnitudeN(w_array)))\n",
    "ax1.set_ylabel('Betrag in dB')\n",
    "ax1.set(xlabel='$\\omega$',xscale='log',yscale='linear')\n",
    "ax1.grid()\n",
    "\n",
    "ax2.plot(w_array,phaseN(w_array))\n",
    "ax2.set(xlabel='$\\omega$',xscale='log',ylabel = 'Phase in °',yticks=[-90,-45,0])\n",
    "ax2.grid()\n"
   ]
  },
  {
   "cell_type": "markdown",
   "id": "27356c6a-af00-41f3-a60d-9d34e2043705",
   "metadata": {},
   "source": [
    "Es ist zu erkennen, dass bei einem Tiefpass erster Ordnung der Betrag der Übertragungsfunktion mit $-20 \\ \\text{dB}$ pro Dekade abfällt. Weiter dreht die Phase von $0 \\ °$ auf $-90 \\ °$. Bei der Grenzfrequenz $\\omega_g$ ist der Betrg der Übertragungsfunktion um $-3 \\ dB$ abgedfallen. Gleichzeitig ist die Phase um $-45 \\ °$ gedreht."
   ]
  },
  {
   "cell_type": "markdown",
   "id": "acba1762-efe8-4bba-85b4-30f0487959c8",
   "metadata": {},
   "source": [
    "## Tiefpasses zweiter Ordnung"
   ]
  },
  {
   "cell_type": "markdown",
   "id": "9a452877-2192-4366-8849-8ca18f3ccb0c",
   "metadata": {},
   "source": [
    "```{figure} ./images/TP_2ord.jpg\n",
    ":name: tp_2ord\n",
    ":width: 300px\n",
    "\n",
    "Tiefpass zweiter Ordnung\n",
    "```"
   ]
  },
  {
   "cell_type": "code",
   "execution_count": 12,
   "id": "022ed476-62b2-4043-a03d-9b4297785415",
   "metadata": {
    "tags": [
     "hide-input"
    ]
   },
   "outputs": [
    {
     "data": {
      "text/markdown": [
       "Die Übertragungsfunktion"
      ],
      "text/plain": [
       "<IPython.core.display.Markdown object>"
      ]
     },
     "metadata": {},
     "output_type": "display_data"
    },
    {
     "data": {
      "text/latex": [
       "$\\displaystyle \\frac{U_{2}}{U_{1}} = - \\frac{i}{C \\omega \\left(i L \\omega + R\\right) - i}$"
      ],
      "text/plain": [
       "U₂                -ⅈ              \n",
       "── = ─────────────────────────────\n",
       "U₁   C⋅\\omega⋅(ⅈ⋅L⋅\\omega + R) - ⅈ"
      ]
     },
     "metadata": {},
     "output_type": "display_data"
    },
    {
     "data": {
      "text/markdown": [
       "Der Betrag"
      ],
      "text/plain": [
       "<IPython.core.display.Markdown object>"
      ]
     },
     "metadata": {},
     "output_type": "display_data"
    },
    {
     "data": {
      "text/latex": [
       "$\\displaystyle Gb = \\frac{1}{\\sqrt{C^{2} L^{2} \\omega^{4} + C^{2} R^{2} \\omega^{2} - 2 C L \\omega^{2} + 1}}$"
      ],
      "text/plain": [
       "                               1                           \n",
       "Gb = ──────────────────────────────────────────────────────\n",
       "        ___________________________________________________\n",
       "       ╱  2  2       4    2  2       2               2     \n",
       "     ╲╱  C ⋅L ⋅\\omega  + C ⋅R ⋅\\omega  - 2⋅C⋅L⋅\\omega  + 1 "
      ]
     },
     "metadata": {},
     "output_type": "display_data"
    },
    {
     "data": {
      "text/markdown": [
       "Die Phase"
      ],
      "text/plain": [
       "<IPython.core.display.Markdown object>"
      ]
     },
     "metadata": {},
     "output_type": "display_data"
    },
    {
     "data": {
      "text/latex": [
       "$\\displaystyle Gp = \\arg{\\left(- \\frac{i}{C \\omega \\left(i L \\omega + R\\right) - i} \\right)}$"
      ],
      "text/plain": [
       "        ⎛             -ⅈ              ⎞\n",
       "Gp = arg⎜─────────────────────────────⎟\n",
       "        ⎝C⋅\\omega⋅(ⅈ⋅L⋅\\omega + R) - ⅈ⎠"
      ]
     },
     "metadata": {},
     "output_type": "display_data"
    }
   ],
   "source": [
    "Z_p = 1/(I*w*C)\n",
    "Z = Z_p + R + I*w*L\n",
    "#display(Z_p)\n",
    "#display(Z)\n",
    "eq2=Eq(U_2/U_1,simplify(Z_p/Z))\n",
    "display(Markdown('Die Übertragungsfunktion'))\n",
    "display(eq2)\n",
    "eq3=Eq(S('Gb'),abs(eq2.rhs))\n",
    "display(Markdown('Der Betrag'))\n",
    "display((eq3))\n",
    "eq4=Eq(S('Gp'),arg(eq2.rhs))\n",
    "display(Markdown('Die Phase'))\n",
    "display(eq4)"
   ]
  },
  {
   "cell_type": "code",
   "execution_count": 13,
   "id": "1117e50e-ca9f-455c-991b-382fa27ee89b",
   "metadata": {
    "tags": [
     "hide-input"
    ]
   },
   "outputs": [
    {
     "data": {
      "text/markdown": [
       "Die Resonanzfrequenz ergibt sich aus folgender Formel."
      ],
      "text/plain": [
       "<IPython.core.display.Markdown object>"
      ]
     },
     "metadata": {},
     "output_type": "display_data"
    },
    {
     "data": {
      "text/latex": [
       "$\\displaystyle \\omega_{r} = \\frac{1}{\\sqrt{C L}}$"
      ],
      "text/plain": [
       "        1   \n",
       "ωᵣ = ───────\n",
       "       _____\n",
       "     ╲╱ C⋅L "
      ]
     },
     "metadata": {},
     "output_type": "display_data"
    },
    {
     "data": {
      "text/latex": [
       "$ \\omega_{r} = 3162.27766016838 \\ \\frac{1}{\\text{s}} $"
      ],
      "text/plain": [
       "<IPython.core.display.Latex object>"
      ]
     },
     "metadata": {},
     "output_type": "display_data"
    },
    {
     "data": {
      "image/png": "[encoded data removed]",
      "text/plain": [
       "<Figure size 720x720 with 2 Axes>"
      ]
     },
     "metadata": {
      "needs_background": "light"
     },
     "output_type": "display_data"
    }
   ],
   "source": [
    "LN=0.1 #H\n",
    "RN=100#Ohm\n",
    "CN=10**-6 #C\n",
    "ZLN=1000 #Ohm\n",
    "\n",
    "omega_start_exponent = 0 #Exponent zur Basis 10 --> omega_start = 10^omega_start_exponent\n",
    "omega_end_exponent = 7 #Exponent zur Basis 10 --> --> omega_end = 10^omega_end_exponent\n",
    "\n",
    "eq1 = (Eq(S('omega_r'),1/sqrt(C*L)))\n",
    "display(Markdown('Die Resonanzfrequenz ergibt sich aus folgender Formel.'))\n",
    "display(eq1)\n",
    "eq2 = Eq(eq1.lhs,convert_to(eq1.subs({C:CN,L:LN}).rhs,second))\n",
    "display(Latex('$ ' + latex(eq2) + ' \\ \\\\frac{1}{\\\\text{s}} $'))\n",
    "\n",
    "magnitude=eq3.rhs.subs({Z_L:ZLN,R:RN,C:CN,L:LN})\n",
    "phase=eq4.rhs.subs({Z_L:ZLN,R:RN,C:CN,L:LN})\n",
    "\n",
    "w_array = np.logspace(omega_start_exponent,omega_end_exponent,10**3) #generate omega array\n",
    "\n",
    "magnitudeN=lambdify(w,magnitude ,\"numpy\") #convert sympy to numpy\n",
    "\n",
    "phaseN=lambdify(w, 180*phase/np.pi,\"numpy\") #convert sympy to numpy\n",
    "\n",
    "fig, (ax1, ax2) = plt.subplots(2, 1)\n",
    "fig.set_size_inches(10, 10)\n",
    "fig.suptitle('Darstellung über die Frequenz')\n",
    "\n",
    "ax1.plot(w_array,20*np.log10(magnitudeN(w_array)))\n",
    "ax1.set_ylabel('Betrag in dB')\n",
    "ax1.set(xlabel='$\\omega$',xscale='log',yscale='linear',yticks=np.arange(20*np.log10(magnitudeN(w_array))[0],min(20*np.log10(magnitudeN(w_array))),-40))\n",
    "ax1.grid()\n",
    "\n",
    "ax2.plot(w_array,phaseN(w_array))\n",
    "ax2.set(xlabel='$\\omega$',xscale='log',ylabel = 'Phase in °',yticks=[-180,-130,-90,-45,0])\n",
    "ax2.grid()"
   ]
  },
  {
   "cell_type": "markdown",
   "id": "db8d02ca-1bdd-4006-9b60-2d3386d7fc0a",
   "metadata": {},
   "source": [
    "Es ist zu erkennen, dass bei einem Tiefpass zweiter Ordnung der Betrag der Übertragungsfunktion mit $-40 \\ \\text{dB}$ pro Dekade abfällt. Weiter dreht die Phase von $0 \\ °$ auf $-180 \\ °$. Durch diese Drehung um $180 °$ ist das System potentiell schwingfähig. Bei der Resonanzfrequenz ist die Phase um $-90 \\ °$  gedreht."
   ]
  }
 ],
 "metadata": {
  "kernelspec": {
   "display_name": "Python 3 (ipykernel)",
   "language": "python",
   "name": "python3"
  },
  "language_info": {
   "codemirror_mode": {
    "name": "ipython",
    "version": 3
   },
   "file_extension": ".py",
   "mimetype": "text/x-python",
   "name": "python",
   "nbconvert_exporter": "python",
   "pygments_lexer": "ipython3",
   "version": "3.9.7"
  }
 },
 "nbformat": 4,
 "nbformat_minor": 5
}
